{
 "cells": [
  {
   "cell_type": "code",
   "execution_count": null,
   "id": "796ba5c8",
   "metadata": {},
   "outputs": [],
   "source": [
    "# conv: conv2d()\n",
    "# relu\n",
    "# pooling: tf.nn.max_pool()\n",
    "# FLATTEN: reshape()\n",
    "# softmax"
   ]
  }
 ],
 "metadata": {
  "kernelspec": {
   "display_name": "Python 3",
   "language": "python",
   "name": "python3"
  },
  "language_info": {
   "codemirror_mode": {
    "name": "ipython",
    "version": 3
   },
   "file_extension": ".py",
   "mimetype": "text/x-python",
   "name": "python",
   "nbconvert_exporter": "python",
   "pygments_lexer": "ipython3",
   "version": "3.9.5"
  }
 },
 "nbformat": 4,
 "nbformat_minor": 5
}
