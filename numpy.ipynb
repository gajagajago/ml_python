{
 "cells": [
  {
   "cell_type": "code",
   "execution_count": 1,
   "id": "3f1b5dab",
   "metadata": {},
   "outputs": [],
   "source": [
    "import numpy as np"
   ]
  },
  {
   "cell_type": "code",
   "execution_count": 2,
   "id": "c6055879",
   "metadata": {},
   "outputs": [],
   "source": [
    "a = np.array([ [1, 1], [2, 2], [3, 3]] )\n",
    "b = np.array([ [4, 4], [5, 5], [6, 6]] )"
   ]
  },
  {
   "cell_type": "code",
   "execution_count": 3,
   "id": "be718634",
   "metadata": {},
   "outputs": [
    {
     "name": "stdout",
     "output_type": "stream",
     "text": [
      "[[5 5]\n",
      " [7 7]\n",
      " [9 9]]\n"
     ]
    }
   ],
   "source": [
    "print(a+b)"
   ]
  },
  {
   "cell_type": "code",
   "execution_count": 4,
   "id": "078a2590",
   "metadata": {},
   "outputs": [
    {
     "name": "stdout",
     "output_type": "stream",
     "text": [
      "(3, 2)\n",
      "2\n"
     ]
    }
   ],
   "source": [
    "print(a.shape)\n",
    "print(a.ndim) # n-dimensional array"
   ]
  },
  {
   "cell_type": "code",
   "execution_count": 5,
   "id": "72179f66",
   "metadata": {},
   "outputs": [],
   "source": [
    "a = np.array( [1, 1, 1] ) ## 1 dimensional vector"
   ]
  },
  {
   "cell_type": "code",
   "execution_count": 6,
   "id": "1e03c71c",
   "metadata": {},
   "outputs": [
    {
     "name": "stdout",
     "output_type": "stream",
     "text": [
      "(3,) 1\n"
     ]
    }
   ],
   "source": [
    "print(a.shape, a.ndim)"
   ]
  },
  {
   "cell_type": "code",
   "execution_count": 7,
   "id": "1ef9f537",
   "metadata": {},
   "outputs": [],
   "source": [
    "a = a.reshape(1, 3)"
   ]
  },
  {
   "cell_type": "code",
   "execution_count": 8,
   "id": "79cae44d",
   "metadata": {},
   "outputs": [
    {
     "name": "stdout",
     "output_type": "stream",
     "text": [
      "(1, 3) 2\n"
     ]
    }
   ],
   "source": [
    "print(a.shape, a.ndim)"
   ]
  }
 ],
 "metadata": {
  "kernelspec": {
   "display_name": "Python 3",
   "language": "python",
   "name": "python3"
  },
  "language_info": {
   "codemirror_mode": {
    "name": "ipython",
    "version": 3
   },
   "file_extension": ".py",
   "mimetype": "text/x-python",
   "name": "python",
   "nbconvert_exporter": "python",
   "pygments_lexer": "ipython3",
   "version": "3.9.5"
  }
 },
 "nbformat": 4,
 "nbformat_minor": 5
}
