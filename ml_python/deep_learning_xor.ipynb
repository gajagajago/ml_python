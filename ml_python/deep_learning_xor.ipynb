{
 "cells": [
  {
   "cell_type": "code",
   "execution_count": 1,
   "id": "0367ee9f",
   "metadata": {},
   "outputs": [],
   "source": [
    "import numpy as np\n",
    "from multi_var_numerical_derivative import multi_var_numerical_derivative\n",
    "from sigmoid import sigmoid"
   ]
  },
  {
   "cell_type": "code",
   "execution_count": 28,
   "id": "36620ad2",
   "metadata": {},
   "outputs": [],
   "source": [
    "class LogicGate:\n",
    "    def __init__(self, name, x_data, t_data):\n",
    "        self.name = name\n",
    "        self.__x_data = x_data.reshape(4,2)\n",
    "        self.__t_data = t_data.reshape(4,1)\n",
    "        \n",
    "        # Input layer (1), Hidden layer (2: 6 nodes), Output layer (3: 1 node) 로 MLP 구성\n",
    "        self.__W2 = np.random.rand(2,6)\n",
    "        self.__b2 = np.random.rand(6) # (1,6) 으로 하면 안됨.  \n",
    "        \n",
    "        self.__W3 = np.random.rand(6,1)\n",
    "        self.__b3 = np.random.rand(1)\n",
    "        \n",
    "        self.__learning_rate = 1e-2\n",
    "        \n",
    "    def __feed_forward(self):\n",
    "        delta = 1e-7\n",
    "        \n",
    "        z2 = np.dot(self.__x_data, self.__W2) + self.__b2\n",
    "        a2 = sigmoid(z2)\n",
    "        \n",
    "        z3 = np.dot(a2, self.__W3) + self.__b3\n",
    "        y = a3 = sigmoid(z3)\n",
    "        \n",
    "        return -np.sum( np.log(y+delta)*self.__t_data + np.log(1-y+delta)*(1-self.__t_data) ) # E(W,b) = cross entropy\n",
    "    \n",
    "    def error_val(self):\n",
    "        return self.__feed_forward()\n",
    "    \n",
    "    def train(self):\n",
    "        f = lambda x : self.__feed_forward()\n",
    "        \n",
    "        for step in range(10001):\n",
    "            self.__W2 -= self.__learning_rate * multi_var_numerical_derivative(f, self.__W2)\n",
    "            self.__b2 -= self.__learning_rate * multi_var_numerical_derivative(f, self.__b2)\n",
    "            \n",
    "            self.__W3 -= self.__learning_rate * multi_var_numerical_derivative(f, self.__W3)\n",
    "            self.__b3 -= self.__learning_rate * multi_var_numerical_derivative(f, self.__b3)\n",
    "            \n",
    "            if (step % 400 == 0):\n",
    "                print(\"STEP %d: \" % step, \" error = \", self.error_val())  \n",
    "\n",
    "    def predict(self, x): # x.shape = (1,2)\n",
    "        z2 = np.dot(x, self.__W2) + self.__b2\n",
    "        a2 = sigmoid(z2)\n",
    "        \n",
    "        z3 = np.dot(a2, self.__W3) + self.__b3\n",
    "        y = a3 = sigmoid(z3)\n",
    "        \n",
    "        return y, 1 if y > 0.5 else 0 "
   ]
  },
  {
   "cell_type": "code",
   "execution_count": 29,
   "id": "b23dd039",
   "metadata": {},
   "outputs": [],
   "source": [
    "# Test inputs\n",
    "test_input = np.array([ [0,0], [0,1], [1,0], [1,1] ])"
   ]
  },
  {
   "cell_type": "code",
   "execution_count": 30,
   "id": "0c2cf8eb",
   "metadata": {},
   "outputs": [
    {
     "name": "stdout",
     "output_type": "stream",
     "text": [
      "STEP 0:   error =  7.263760407818883\n",
      "STEP 400:   error =  2.241894479788645\n",
      "STEP 800:   error =  2.062981561413445\n",
      "STEP 1200:   error =  1.7601610584461809\n",
      "STEP 1600:   error =  1.4258126451464768\n",
      "STEP 2000:   error =  1.1017848277719486\n",
      "STEP 2400:   error =  0.8250340309369886\n",
      "STEP 2800:   error =  0.6145190783629064\n",
      "STEP 3200:   error =  0.46494070446563796\n",
      "STEP 3600:   error =  0.36088235165676363\n",
      "STEP 4000:   error =  0.2878595526817759\n",
      "STEP 4400:   error =  0.23546210605903525\n",
      "STEP 4800:   error =  0.1968629963390871\n",
      "STEP 5200:   error =  0.1676833447205206\n",
      "STEP 5600:   error =  0.14509428935559027\n",
      "STEP 6000:   error =  0.1272330634392023\n",
      "STEP 6400:   error =  0.11284426531279793\n",
      "STEP 6800:   error =  0.10106146216111311\n",
      "STEP 7200:   error =  0.0912728705971583\n",
      "STEP 7600:   error =  0.08303723719271856\n",
      "STEP 8000:   error =  0.07603003824574446\n",
      "STEP 8400:   error =  0.07000832015400349\n",
      "STEP 8800:   error =  0.06478723362135133\n",
      "STEP 9200:   error =  0.060224056651619194\n",
      "STEP 9600:   error =  0.05620711107155492\n",
      "STEP 10000:   error =  0.05264793888136945\n"
     ]
    }
   ],
   "source": [
    "# AND Gate\n",
    "x_data = np.array([ [0,0], [0,1], [1,0], [1,1] ])\n",
    "t_data = np.array([[0], [0], [0], [1]])\n",
    "\n",
    "AND_obj = LogicGate(\"AND\", x_data, t_data)\n",
    "\n",
    "AND_obj.train()"
   ]
  },
  {
   "cell_type": "code",
   "execution_count": 31,
   "id": "d56e007e",
   "metadata": {},
   "outputs": [
    {
     "name": "stdout",
     "output_type": "stream",
     "text": [
      "(array([0.00026105]), 0)\n",
      "(array([0.01185582]), 0)\n",
      "(array([0.01383947]), 0)\n",
      "(array([0.97382422]), 1)\n"
     ]
    }
   ],
   "source": [
    "for e in test_input:\n",
    "    print(AND_obj.predict(e))"
   ]
  },
  {
   "cell_type": "code",
   "execution_count": 32,
   "id": "676bb06c",
   "metadata": {},
   "outputs": [
    {
     "name": "stdout",
     "output_type": "stream",
     "text": [
      "STEP 0:   error =  2.809805365108496\n",
      "STEP 400:   error =  1.9609731641024828\n",
      "STEP 800:   error =  1.7135969143290948\n",
      "STEP 1200:   error =  1.3819265527192717\n",
      "STEP 1600:   error =  1.0233105327300305\n",
      "STEP 2000:   error =  0.7244546642805305\n",
      "STEP 2400:   error =  0.5146730470634193\n",
      "STEP 2800:   error =  0.3767282955328894\n",
      "STEP 3200:   error =  0.28610757124560926\n",
      "STEP 3600:   error =  0.22495951238198977\n",
      "STEP 4000:   error =  0.18223497537830582\n",
      "STEP 4400:   error =  0.1513345331392292\n",
      "STEP 4800:   error =  0.12827650260762738\n",
      "STEP 5200:   error =  0.11059391079695598\n",
      "STEP 5600:   error =  0.09670974315860481\n",
      "STEP 6000:   error =  0.08558400803718737\n",
      "STEP 6400:   error =  0.07651057044006876\n",
      "STEP 6800:   error =  0.06899706004402162\n",
      "STEP 7200:   error =  0.06269183433283347\n",
      "STEP 7600:   error =  0.05733829880580017\n",
      "STEP 8000:   error =  0.05274557112134363\n",
      "STEP 8400:   error =  0.04876917291098192\n",
      "STEP 8800:   error =  0.04529803112418823\n",
      "STEP 9200:   error =  0.042245543981740116\n",
      "STEP 9600:   error =  0.03954332308330069\n",
      "STEP 10000:   error =  0.03713673332883764\n"
     ]
    }
   ],
   "source": [
    "# OR Gate\n",
    "x_data = np.array([ [0,0], [0,1], [1,0], [1,1] ])\n",
    "t_data = np.array([[0], [1], [1], [1]])\n",
    "\n",
    "OR_obj = LogicGate(\"OR\", x_data, t_data)\n",
    "\n",
    "OR_obj.train()"
   ]
  },
  {
   "cell_type": "code",
   "execution_count": 33,
   "id": "b4e6475c",
   "metadata": {},
   "outputs": [
    {
     "name": "stdout",
     "output_type": "stream",
     "text": [
      "(array([0.02227129]), 0)\n",
      "(array([0.99210609]), 1)\n",
      "(array([0.99353146]), 1)\n",
      "(array([0.99980071]), 1)\n"
     ]
    }
   ],
   "source": [
    "for e in test_input:\n",
    "    print(OR_obj.predict(e))"
   ]
  },
  {
   "cell_type": "code",
   "execution_count": 37,
   "id": "0d58fc8a",
   "metadata": {},
   "outputs": [
    {
     "name": "stdout",
     "output_type": "stream",
     "text": [
      "STEP 0:   error =  3.603970268935817\n",
      "STEP 400:   error =  2.7652159355876664\n",
      "STEP 800:   error =  2.758133221899823\n",
      "STEP 1200:   error =  2.7496385864502404\n",
      "STEP 1600:   error =  2.7384448502927885\n",
      "STEP 2000:   error =  2.7229812670845472\n",
      "STEP 2400:   error =  2.701339855501057\n",
      "STEP 2800:   error =  2.671328203580506\n",
      "STEP 3200:   error =  2.6306143602697296\n",
      "STEP 3600:   error =  2.5769923258709744\n",
      "STEP 4000:   error =  2.5088983727697793\n",
      "STEP 4400:   error =  2.4261464109295883\n",
      "STEP 4800:   error =  2.33025691798211\n",
      "STEP 5200:   error =  2.223598201213966\n",
      "STEP 5600:   error =  2.1077045818430507\n",
      "STEP 6000:   error =  1.982206837543509\n",
      "STEP 6400:   error =  1.8454090692058611\n",
      "STEP 6800:   error =  1.6963807509114135\n",
      "STEP 7200:   error =  1.537132440823083\n",
      "STEP 7600:   error =  1.373086359445633\n",
      "STEP 8000:   error =  1.211501124298382\n",
      "STEP 8400:   error =  1.0591552164412188\n",
      "STEP 8800:   error =  0.9207675777811583\n",
      "STEP 9200:   error =  0.7986234895894226\n",
      "STEP 9600:   error =  0.6930152885258005\n",
      "STEP 10000:   error =  0.6029457561918223\n"
     ]
    }
   ],
   "source": [
    "# XOR Gate\n",
    "x_data = np.array([ [0,0], [0,1], [1,0], [1,1] ])\n",
    "t_data = np.array([[0], [1], [1], [0]])\n",
    "\n",
    "XOR_obj = LogicGate(\"XOR\", x_data, t_data)\n",
    "\n",
    "XOR_obj.train()"
   ]
  },
  {
   "cell_type": "code",
   "execution_count": 38,
   "id": "ab47ba85",
   "metadata": {},
   "outputs": [
    {
     "name": "stdout",
     "output_type": "stream",
     "text": [
      "(array([0.07198143]), 0)\n",
      "(array([0.84757964]), 1)\n",
      "(array([0.87288408]), 1)\n",
      "(array([0.20301522]), 0)\n"
     ]
    }
   ],
   "source": [
    "for e in test_input:\n",
    "    print(XOR_obj.predict(e)) "
   ]
  },
  {
   "cell_type": "markdown",
   "id": "b2b578db",
   "metadata": {},
   "source": [
    "MLP: 1개 이상의 은닉층을 이용해 XOR을 딥러닝만으로 구현할 수 있다."
   ]
  }
 ],
 "metadata": {
  "kernelspec": {
   "display_name": "Python 3",
   "language": "python",
   "name": "python3"
  },
  "language_info": {
   "codemirror_mode": {
    "name": "ipython",
    "version": 3
   },
   "file_extension": ".py",
   "mimetype": "text/x-python",
   "name": "python",
   "nbconvert_exporter": "python",
   "pygments_lexer": "ipython3",
   "version": "3.9.5"
  }
 },
 "nbformat": 4,
 "nbformat_minor": 5
}
