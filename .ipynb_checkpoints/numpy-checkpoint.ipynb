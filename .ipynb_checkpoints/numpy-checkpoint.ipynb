{
 "cells": [
  {
   "cell_type": "code",
   "execution_count": 1,
   "id": "3f1b5dab",
   "metadata": {},
   "outputs": [],
   "source": [
    "import numpy as np"
   ]
  },
  {
   "cell_type": "code",
   "execution_count": 2,
   "id": "c6055879",
   "metadata": {},
   "outputs": [],
   "source": [
    "a = np.array([ [1, 1], [2, 2], [3, 3]] )\n",
    "b = np.array([ [4, 4], [5, 5], [6, 6]] )"
   ]
  },
  {
   "cell_type": "code",
   "execution_count": 3,
   "id": "be718634",
   "metadata": {},
   "outputs": [
    {
     "name": "stdout",
     "output_type": "stream",
     "text": [
      "[[5 5]\n",
      " [7 7]\n",
      " [9 9]]\n"
     ]
    }
   ],
   "source": [
    "print(a+b)"
   ]
  },
  {
   "cell_type": "code",
   "execution_count": 4,
   "id": "078a2590",
   "metadata": {},
   "outputs": [
    {
     "name": "stdout",
     "output_type": "stream",
     "text": [
      "(3, 2)\n",
      "2\n"
     ]
    }
   ],
   "source": [
    "print(a.shape)\n",
    "print(a.ndim) # n-dimensional array"
   ]
  },
  {
   "cell_type": "code",
   "execution_count": 5,
   "id": "72179f66",
   "metadata": {},
   "outputs": [],
   "source": [
    "a = np.array( [1, 1, 1] ) ## 1 dimensional vector"
   ]
  },
  {
   "cell_type": "code",
   "execution_count": 6,
   "id": "1e03c71c",
   "metadata": {},
   "outputs": [
    {
     "name": "stdout",
     "output_type": "stream",
     "text": [
      "(3,) 1\n"
     ]
    }
   ],
   "source": [
    "print(a.shape, a.ndim)"
   ]
  },
  {
   "cell_type": "code",
   "execution_count": 7,
   "id": "1ef9f537",
   "metadata": {},
   "outputs": [],
   "source": [
    "a = a.reshape(1, 3)"
   ]
  },
  {
   "cell_type": "code",
   "execution_count": 8,
   "id": "79cae44d",
   "metadata": {},
   "outputs": [
    {
     "name": "stdout",
     "output_type": "stream",
     "text": [
      "(1, 3) 2\n"
     ]
    }
   ],
   "source": [
    "print(a.shape, a.ndim)"
   ]
  },
  {
   "cell_type": "markdown",
   "id": "532e07b7",
   "metadata": {},
   "source": [
    "#### Matrix multiplication: np.dot\n",
    "#### Matrix broadcast: 사칙연산(+, -, *, /)  에 대해 vector와 scalar 혹은 different dimension vector, element 수가 다른 vector 간 연산 \n",
    "- 큰 크기에 행 단위로 확장 후 요소 간 연산"
   ]
  },
  {
   "cell_type": "code",
   "execution_count": 9,
   "id": "f7f8de5a",
   "metadata": {},
   "outputs": [],
   "source": [
    "A = np.array([ [1, 2], [3, 4]] )\n",
    "b = 1"
   ]
  },
  {
   "cell_type": "code",
   "execution_count": 10,
   "id": "8cc8ba77",
   "metadata": {},
   "outputs": [
    {
     "name": "stdout",
     "output_type": "stream",
     "text": [
      "[[2 3]\n",
      " [4 5]]\n"
     ]
    }
   ],
   "source": [
    "print(A+b) # broadcast"
   ]
  },
  {
   "cell_type": "code",
   "execution_count": 11,
   "id": "aea6ba51",
   "metadata": {},
   "outputs": [],
   "source": [
    "B = np.array([ [2, 3], [4, 5] ])"
   ]
  },
  {
   "cell_type": "code",
   "execution_count": 12,
   "id": "9ee03efc",
   "metadata": {},
   "outputs": [
    {
     "name": "stdout",
     "output_type": "stream",
     "text": [
      "[[10 13]\n",
      " [22 29]]\n"
     ]
    }
   ],
   "source": [
    "print(np.dot(A,B))"
   ]
  },
  {
   "cell_type": "markdown",
   "id": "487b9500",
   "metadata": {},
   "source": [
    "#### Transpose\n",
    "- Matrix의 stride(: distance in memory btw adjacent elements in object)만 바꿀 뿐, 실제 Matrix을 건드리진 않음.\n",
    "- 실제 transpose된 Matrix를 저장하려면 A.T.copy(order='C')\n",
    ">copy w/ order: 'C': C 언어처럼 memory에 indexing"
   ]
  },
  {
   "cell_type": "code",
   "execution_count": 13,
   "id": "4515be48",
   "metadata": {},
   "outputs": [],
   "source": [
    "A = np.array( [ [1, 2], [3, 4], [5,6] ])\n",
    "B = A.T"
   ]
  },
  {
   "cell_type": "code",
   "execution_count": 14,
   "id": "7c4ff33d",
   "metadata": {},
   "outputs": [
    {
     "name": "stdout",
     "output_type": "stream",
     "text": [
      "[[1 3 5]\n",
      " [2 4 6]]\n"
     ]
    }
   ],
   "source": [
    "print(B) # transpose"
   ]
  },
  {
   "cell_type": "code",
   "execution_count": 15,
   "id": "be29f609",
   "metadata": {},
   "outputs": [
    {
     "name": "stdout",
     "output_type": "stream",
     "text": [
      "1\n",
      "2\n",
      "3\n",
      "4\n",
      "5\n",
      "6\n"
     ]
    }
   ],
   "source": [
    "for x in np.nditer(A):\n",
    "    print(x)\n",
    "    "
   ]
  },
  {
   "cell_type": "code",
   "execution_count": 16,
   "id": "61e8f5d1",
   "metadata": {},
   "outputs": [
    {
     "name": "stdout",
     "output_type": "stream",
     "text": [
      "1\n",
      "2\n",
      "3\n",
      "4\n",
      "5\n",
      "6\n"
     ]
    }
   ],
   "source": [
    "for x in np.nditer(B):\n",
    "    print(x) # transpose only changes stride, not change the matrix in memory"
   ]
  },
  {
   "cell_type": "code",
   "execution_count": 17,
   "id": "501189a0",
   "metadata": {},
   "outputs": [
    {
     "name": "stdout",
     "output_type": "stream",
     "text": [
      "A.addr: 4856548688 C.addr: 4856548688\n",
      "D.addr: 4856601056\n"
     ]
    }
   ],
   "source": [
    "C = A\n",
    "print(\"A.addr: %d C.addr: %d\" %( id(A), id(C) ) )\n",
    "\n",
    "D = A.T.copy(order= 'C') \n",
    "print(\"D.addr: %d\" %(id(D)))"
   ]
  },
  {
   "cell_type": "code",
   "execution_count": 18,
   "id": "40cb66c4",
   "metadata": {},
   "outputs": [
    {
     "name": "stdout",
     "output_type": "stream",
     "text": [
      "1\n",
      "3\n",
      "5\n",
      "2\n",
      "4\n",
      "6\n"
     ]
    }
   ],
   "source": [
    "for x in np.nditer(D):\n",
    "    print(x) "
   ]
  },
  {
   "cell_type": "markdown",
   "id": "cfd16720",
   "metadata": {},
   "source": [
    "#### Concatenate "
   ]
  },
  {
   "cell_type": "code",
   "execution_count": 19,
   "id": "2563b8b6",
   "metadata": {},
   "outputs": [],
   "source": [
    "A = np.arange(6).reshape(2,3)"
   ]
  },
  {
   "cell_type": "code",
   "execution_count": 20,
   "id": "80a25f63",
   "metadata": {},
   "outputs": [
    {
     "name": "stdout",
     "output_type": "stream",
     "text": [
      "[[0 1 2]\n",
      " [3 4 5]]\n"
     ]
    }
   ],
   "source": [
    "print(A)"
   ]
  },
  {
   "cell_type": "code",
   "execution_count": 21,
   "id": "d8de9026",
   "metadata": {},
   "outputs": [],
   "source": [
    "B = np.array([6,7,8]).reshape(1,3)"
   ]
  },
  {
   "cell_type": "code",
   "execution_count": 22,
   "id": "46aefad8",
   "metadata": {},
   "outputs": [
    {
     "name": "stdout",
     "output_type": "stream",
     "text": [
      "[[0 1 2]\n",
      " [3 4 5]\n",
      " [6 7 8]]\n"
     ]
    }
   ],
   "source": [
    "A = np.concatenate((A, B), axis = 0)\n",
    "print(A)"
   ]
  },
  {
   "cell_type": "code",
   "execution_count": 23,
   "id": "5a7b9953",
   "metadata": {},
   "outputs": [
    {
     "name": "stdout",
     "output_type": "stream",
     "text": [
      "[[  0   1   2 100]\n",
      " [  3   4   5 200]\n",
      " [  6   7   8 300]]\n"
     ]
    }
   ],
   "source": [
    "C = np.array([100, 200, 300]).reshape(3,1)\n",
    "A = np.concatenate((A, C), axis=1)\n",
    "print(A)"
   ]
  },
  {
   "cell_type": "markdown",
   "id": "393a1f8f",
   "metadata": {},
   "source": [
    "#### Load text"
   ]
  },
  {
   "cell_type": "code",
   "execution_count": 24,
   "id": "be184b6f",
   "metadata": {},
   "outputs": [],
   "source": [
    "data = np.loadtxt('./read_data.csv', delimiter=',', dtype = int)"
   ]
  },
  {
   "cell_type": "code",
   "execution_count": 25,
   "id": "9ab1f9a4",
   "metadata": {},
   "outputs": [
    {
     "name": "stdout",
     "output_type": "stream",
     "text": [
      "[[ 73  80  75 152]\n",
      " [ 93  88  93 185]\n",
      " [ 89  91  90 180]\n",
      " [ 96  98 100 196]\n",
      " [ 73  66  70 142]\n",
      " [ 53  46  55 101]\n",
      " [ 69  74  77 149]\n",
      " [ 47  56  60 115]\n",
      " [ 87  79  90 175]\n",
      " [ 79  70  88 164]\n",
      " [ 69  70  73 141]\n",
      " [ 70  65  74 141]\n",
      " [ 93  95  91 184]\n",
      " [ 79  80  73 152]\n",
      " [ 70  73  78 148]\n",
      " [ 93  89  96 192]\n",
      " [ 78  75  68 147]\n",
      " [ 81  90  93 183]\n",
      " [ 88  92  86 177]\n",
      " [ 78  83  77 159]\n",
      " [ 82  86  90 177]\n",
      " [ 86  82  89 175]\n",
      " [ 78  83  85 175]\n",
      " [ 76  83  71 149]\n",
      " [ 96  93  95 192]]\n"
     ]
    }
   ],
   "source": [
    "print(data)"
   ]
  },
  {
   "cell_type": "code",
   "execution_count": 26,
   "id": "f8bfa55d",
   "metadata": {},
   "outputs": [],
   "source": [
    "col1_data = data[:, 0]"
   ]
  },
  {
   "cell_type": "code",
   "execution_count": 27,
   "id": "33c3cbf3",
   "metadata": {},
   "outputs": [
    {
     "name": "stdout",
     "output_type": "stream",
     "text": [
      "[73 93 89 96 73 53 69 47 87 79 69 70 93 79 70 93 78 81 88 78 82 86 78 76\n",
      " 96]\n"
     ]
    }
   ],
   "source": [
    "print(col1_data)"
   ]
  },
  {
   "cell_type": "code",
   "execution_count": 28,
   "id": "921b4f5e",
   "metadata": {},
   "outputs": [
    {
     "name": "stdout",
     "output_type": "stream",
     "text": [
      "np.max(Y) =  [ 96  98 100 196]\n"
     ]
    }
   ],
   "source": [
    "print(\"np.max(Y) = \", np.max(data, axis = 0)) # col wise"
   ]
  },
  {
   "cell_type": "code",
   "execution_count": 29,
   "id": "415260eb",
   "metadata": {},
   "outputs": [
    {
     "name": "stdout",
     "output_type": "stream",
     "text": [
      "np.max(X) =  [152 185 180 196 142 101 149 115 175 164 141 141 184 152 148 192 147 183\n",
      " 177 159 177 175 175 149 192]\n"
     ]
    }
   ],
   "source": [
    "print(\"np.max(X) = \", np.max(data, axis = 1)) # row wise"
   ]
  },
  {
   "cell_type": "code",
   "execution_count": 30,
   "id": "e8e62b57",
   "metadata": {},
   "outputs": [
    {
     "name": "stdout",
     "output_type": "stream",
     "text": [
      "np.argmax(X) =  [3 3 3 3 3 3 3 3 3 3 3 3 3 3 3 3 3 3 3 3 3 3 3 3 3]\n"
     ]
    }
   ],
   "source": [
    "print(\"np.argmax(X) = \", np.argmax(data, axis = 1))"
   ]
  },
  {
   "cell_type": "markdown",
   "id": "80a9db06",
   "metadata": {},
   "source": [
    "#### Matplotlib"
   ]
  },
  {
   "cell_type": "code",
   "execution_count": 31,
   "id": "3f58dec0",
   "metadata": {},
   "outputs": [],
   "source": [
    "import matplotlib.pyplot as plt"
   ]
  },
  {
   "cell_type": "code",
   "execution_count": 32,
   "id": "99b0381a",
   "metadata": {},
   "outputs": [],
   "source": [
    "%matplotlib inline"
   ]
  },
  {
   "cell_type": "code",
   "execution_count": 33,
   "id": "aca9f9ba",
   "metadata": {},
   "outputs": [],
   "source": [
    "x_data = np.random.rand(100)\n",
    "y_data = np.random.rand(100)"
   ]
  },
  {
   "cell_type": "code",
   "execution_count": 34,
   "id": "084e466f",
   "metadata": {},
   "outputs": [
    {
     "data": {
      "image/png": "[encoded data removed]",
      "text/plain": [
       "<Figure size 432x288 with 1 Axes>"
      ]
     },
     "metadata": {
      "needs_background": "light"
     },
     "output_type": "display_data"
    }
   ],
   "source": [
    "plt.title('Scatter plot')\n",
    "plt.grid\n",
    "plt.scatter(x_data, y_data, color='g')\n",
    "plt.show()"
   ]
  }
 ],
 "metadata": {
  "kernelspec": {
   "display_name": "Python 3",
   "language": "python",
   "name": "python3"
  },
  "language_info": {
   "codemirror_mode": {
    "name": "ipython",
    "version": 3
   },
   "file_extension": ".py",
   "mimetype": "text/x-python",
   "name": "python",
   "nbconvert_exporter": "python",
   "pygments_lexer": "ipython3",
   "version": "3.9.5"
  }
 },
 "nbformat": 4,
 "nbformat_minor": 5
}
