{
 "cells": [
  {
   "cell_type": "code",
   "execution_count": 1,
   "id": "4beffeb9",
   "metadata": {},
   "outputs": [],
   "source": [
    "import tensorflow as tf\n",
    "import numpy as np\n",
    "import pandas as pd\n",
    "import matplotlib.pyplot as plt\n",
    "from tensorflow.keras.layers import LSTM, Dense, Dropout\n",
    "from tensorflow.keras import Sequential"
   ]
  },
  {
   "cell_type": "markdown",
   "id": "8d3c6c5d",
   "metadata": {},
   "source": [
    "### 삼성전자 주가예측 LSTM"
   ]
  },
  {
   "cell_type": "code",
   "execution_count": 2,
   "id": "f2dd6578",
   "metadata": {},
   "outputs": [],
   "source": [
    "samsung_stock = pd.read_csv(\"005930.KS.csv\")"
   ]
  },
  {
   "cell_type": "code",
   "execution_count": 3,
   "id": "c3ee6e15",
   "metadata": {},
   "outputs": [
    {
     "name": "stdout",
     "output_type": "stream",
     "text": [
      "Shape:  (5014, 9)\n"
     ]
    }
   ],
   "source": [
    "print(\"Shape: \", samsung_stock.shape)"
   ]
  },
  {
   "cell_type": "code",
   "execution_count": 4,
   "id": "0e7f48e5",
   "metadata": {},
   "outputs": [
    {
     "data": {
      "image/png": "[encoded data removed]",
      "text/plain": [
       "<Figure size 864x432 with 1 Axes>"
      ]
     },
     "metadata": {
      "needs_background": "light"
     },
     "output_type": "display_data"
    }
   ],
   "source": [
    "plt.figure(figsize=(12,6))\n",
    "plt.grid()\n",
    "plt.plot(samsung_stock['Adj Close'], label='Price')\n",
    "plt.xlabel('period(days)')\n",
    "plt.ylabel('price(WON)')\n",
    "plt.legend(loc='best')\n",
    "plt.show()"
   ]
  },
  {
   "cell_type": "markdown",
   "id": "0744ced2",
   "metadata": {},
   "source": [
    "#### 데이터 전처리\n",
    "- Missing value drop\n",
    "> NaN를 포함하고 있는 row 전체를 drop\n",
    "- Normalization\n",
    "> MinMaxScaler => 0~1 사이 값으로 정규화"
   ]
  },
  {
   "cell_type": "code",
   "execution_count": 5,
   "id": "b6b1aefe",
   "metadata": {},
   "outputs": [
    {
     "data": {
      "text/html": [
       "<div>\n",
       "<style scoped>\n",
       "    .dataframe tbody tr th:only-of-type {\n",
       "        vertical-align: middle;\n",
       "    }\n",
       "\n",
       "    .dataframe tbody tr th {\n",
       "        vertical-align: top;\n",
       "    }\n",
       "\n",
       "    .dataframe thead th {\n",
       "        text-align: right;\n",
       "    }\n",
       "</style>\n",
       "<table border=\"1\" class=\"dataframe\">\n",
       "  <thead>\n",
       "    <tr style=\"text-align: right;\">\n",
       "      <th></th>\n",
       "      <th>Open</th>\n",
       "      <th>High</th>\n",
       "      <th>Low</th>\n",
       "      <th>Close</th>\n",
       "      <th>Adj Close</th>\n",
       "      <th>Volume</th>\n",
       "      <th>3MA</th>\n",
       "      <th>5MA</th>\n",
       "    </tr>\n",
       "  </thead>\n",
       "  <tbody>\n",
       "    <tr>\n",
       "      <th>count</th>\n",
       "      <td>5008.000000</td>\n",
       "      <td>5008.000000</td>\n",
       "      <td>5008.000000</td>\n",
       "      <td>5008.000000</td>\n",
       "      <td>5008.000000</td>\n",
       "      <td>5.008000e+03</td>\n",
       "      <td>5012.000000</td>\n",
       "      <td>5010.000000</td>\n",
       "    </tr>\n",
       "    <tr>\n",
       "      <th>mean</th>\n",
       "      <td>24480.059904</td>\n",
       "      <td>24733.478435</td>\n",
       "      <td>24225.371406</td>\n",
       "      <td>24480.129792</td>\n",
       "      <td>21467.194844</td>\n",
       "      <td>2.018467e+07</td>\n",
       "      <td>24497.491354</td>\n",
       "      <td>24490.441417</td>\n",
       "    </tr>\n",
       "    <tr>\n",
       "      <th>std</th>\n",
       "      <td>17993.118003</td>\n",
       "      <td>18162.674243</td>\n",
       "      <td>17829.301378</td>\n",
       "      <td>17988.523126</td>\n",
       "      <td>17744.568690</td>\n",
       "      <td>1.239153e+07</td>\n",
       "      <td>17981.441895</td>\n",
       "      <td>17962.630707</td>\n",
       "    </tr>\n",
       "    <tr>\n",
       "      <th>min</th>\n",
       "      <td>2760.000000</td>\n",
       "      <td>2810.000000</td>\n",
       "      <td>2680.000000</td>\n",
       "      <td>2810.000000</td>\n",
       "      <td>2179.989746</td>\n",
       "      <td>0.000000e+00</td>\n",
       "      <td>2810.000000</td>\n",
       "      <td>2810.000000</td>\n",
       "    </tr>\n",
       "    <tr>\n",
       "      <th>25%</th>\n",
       "      <td>11100.000000</td>\n",
       "      <td>11220.000000</td>\n",
       "      <td>10960.000000</td>\n",
       "      <td>11100.000000</td>\n",
       "      <td>8712.173584</td>\n",
       "      <td>1.161452e+07</td>\n",
       "      <td>11106.666670</td>\n",
       "      <td>11117.000000</td>\n",
       "    </tr>\n",
       "    <tr>\n",
       "      <th>50%</th>\n",
       "      <td>17740.000000</td>\n",
       "      <td>17950.000000</td>\n",
       "      <td>17590.000000</td>\n",
       "      <td>17760.000000</td>\n",
       "      <td>14565.179690</td>\n",
       "      <td>1.719132e+07</td>\n",
       "      <td>17776.666665</td>\n",
       "      <td>17766.000000</td>\n",
       "    </tr>\n",
       "    <tr>\n",
       "      <th>75%</th>\n",
       "      <td>30325.000000</td>\n",
       "      <td>30660.000000</td>\n",
       "      <td>30030.000000</td>\n",
       "      <td>30405.000000</td>\n",
       "      <td>25373.364750</td>\n",
       "      <td>2.544966e+07</td>\n",
       "      <td>30426.666670</td>\n",
       "      <td>30376.000000</td>\n",
       "    </tr>\n",
       "    <tr>\n",
       "      <th>max</th>\n",
       "      <td>90300.000000</td>\n",
       "      <td>96800.000000</td>\n",
       "      <td>89500.000000</td>\n",
       "      <td>91000.000000</td>\n",
       "      <td>90597.414060</td>\n",
       "      <td>1.151300e+08</td>\n",
       "      <td>90433.333330</td>\n",
       "      <td>89960.000000</td>\n",
       "    </tr>\n",
       "  </tbody>\n",
       "</table>\n",
       "</div>"
      ],
      "text/plain": [
       "               Open          High           Low         Close     Adj Close  \\\n",
       "count   5008.000000   5008.000000   5008.000000   5008.000000   5008.000000   \n",
       "mean   24480.059904  24733.478435  24225.371406  24480.129792  21467.194844   \n",
       "std    17993.118003  18162.674243  17829.301378  17988.523126  17744.568690   \n",
       "min     2760.000000   2810.000000   2680.000000   2810.000000   2179.989746   \n",
       "25%    11100.000000  11220.000000  10960.000000  11100.000000   8712.173584   \n",
       "50%    17740.000000  17950.000000  17590.000000  17760.000000  14565.179690   \n",
       "75%    30325.000000  30660.000000  30030.000000  30405.000000  25373.364750   \n",
       "max    90300.000000  96800.000000  89500.000000  91000.000000  90597.414060   \n",
       "\n",
       "             Volume           3MA           5MA  \n",
       "count  5.008000e+03   5012.000000   5010.000000  \n",
       "mean   2.018467e+07  24497.491354  24490.441417  \n",
       "std    1.239153e+07  17981.441895  17962.630707  \n",
       "min    0.000000e+00   2810.000000   2810.000000  \n",
       "25%    1.161452e+07  11106.666670  11117.000000  \n",
       "50%    1.719132e+07  17776.666665  17766.000000  \n",
       "75%    2.544966e+07  30426.666670  30376.000000  \n",
       "max    1.151300e+08  90433.333330  89960.000000  "
      ]
     },
     "execution_count": 5,
     "metadata": {},
     "output_type": "execute_result"
    }
   ],
   "source": [
    "samsung_stock.describe()"
   ]
  },
  {
   "cell_type": "code",
   "execution_count": 6,
   "id": "f9dae8df",
   "metadata": {},
   "outputs": [
    {
     "data": {
      "text/plain": [
       "Date          0\n",
       "Open          0\n",
       "High          0\n",
       "Low           0\n",
       "Close         0\n",
       "Adj Close     0\n",
       "Volume       84\n",
       "3MA           0\n",
       "5MA           0\n",
       "dtype: int64"
      ]
     },
     "execution_count": 6,
     "metadata": {},
     "output_type": "execute_result"
    }
   ],
   "source": [
    "# Check for any Outlier (0 value)\n",
    "(samsung_stock == 0).sum(axis=0)"
   ]
  },
  {
   "cell_type": "code",
   "execution_count": 7,
   "id": "fab5044b",
   "metadata": {},
   "outputs": [],
   "source": [
    "samsung_stock.loc[:, 'Volume'] = samsung_stock.loc[:, 'Volume'].replace(0, np.nan)"
   ]
  },
  {
   "cell_type": "code",
   "execution_count": 8,
   "id": "92afd33b",
   "metadata": {},
   "outputs": [
    {
     "data": {
      "text/plain": [
       "Date         0\n",
       "Open         0\n",
       "High         0\n",
       "Low          0\n",
       "Close        0\n",
       "Adj Close    0\n",
       "Volume       0\n",
       "3MA          0\n",
       "5MA          0\n",
       "dtype: int64"
      ]
     },
     "execution_count": 8,
     "metadata": {},
     "output_type": "execute_result"
    }
   ],
   "source": [
    "# Check for any 0 values\n",
    "(samsung_stock == 0).sum(axis=0)"
   ]
  },
  {
   "cell_type": "code",
   "execution_count": 9,
   "id": "6c450f7f",
   "metadata": {},
   "outputs": [
    {
     "data": {
      "text/plain": [
       "Date          0\n",
       "Open          6\n",
       "High          6\n",
       "Low           6\n",
       "Close         6\n",
       "Adj Close     6\n",
       "Volume       90\n",
       "3MA           2\n",
       "5MA           4\n",
       "dtype: int64"
      ]
     },
     "execution_count": 9,
     "metadata": {},
     "output_type": "execute_result"
    }
   ],
   "source": [
    "# Missing Value: NaN\n",
    "samsung_stock.isnull().sum()"
   ]
  },
  {
   "cell_type": "code",
   "execution_count": 10,
   "id": "d258d975",
   "metadata": {},
   "outputs": [
    {
     "data": {
      "text/html": [
       "<div>\n",
       "<style scoped>\n",
       "    .dataframe tbody tr th:only-of-type {\n",
       "        vertical-align: middle;\n",
       "    }\n",
       "\n",
       "    .dataframe tbody tr th {\n",
       "        vertical-align: top;\n",
       "    }\n",
       "\n",
       "    .dataframe thead th {\n",
       "        text-align: right;\n",
       "    }\n",
       "</style>\n",
       "<table border=\"1\" class=\"dataframe\">\n",
       "  <thead>\n",
       "    <tr style=\"text-align: right;\">\n",
       "      <th></th>\n",
       "      <th>Date</th>\n",
       "      <th>Open</th>\n",
       "      <th>High</th>\n",
       "      <th>Low</th>\n",
       "      <th>Close</th>\n",
       "      <th>Adj Close</th>\n",
       "      <th>Volume</th>\n",
       "      <th>3MA</th>\n",
       "      <th>5MA</th>\n",
       "    </tr>\n",
       "  </thead>\n",
       "  <tbody>\n",
       "    <tr>\n",
       "      <th>902</th>\n",
       "      <td>2005.1.3</td>\n",
       "      <td>NaN</td>\n",
       "      <td>NaN</td>\n",
       "      <td>NaN</td>\n",
       "      <td>NaN</td>\n",
       "      <td>NaN</td>\n",
       "      <td>NaN</td>\n",
       "      <td>9010.0</td>\n",
       "      <td>8907.5</td>\n",
       "    </tr>\n",
       "    <tr>\n",
       "      <th>4111</th>\n",
       "      <td>2017.11.16</td>\n",
       "      <td>NaN</td>\n",
       "      <td>NaN</td>\n",
       "      <td>NaN</td>\n",
       "      <td>NaN</td>\n",
       "      <td>NaN</td>\n",
       "      <td>NaN</td>\n",
       "      <td>55630.0</td>\n",
       "      <td>56010.0</td>\n",
       "    </tr>\n",
       "    <tr>\n",
       "      <th>4116</th>\n",
       "      <td>2017.11.23</td>\n",
       "      <td>NaN</td>\n",
       "      <td>NaN</td>\n",
       "      <td>NaN</td>\n",
       "      <td>NaN</td>\n",
       "      <td>NaN</td>\n",
       "      <td>NaN</td>\n",
       "      <td>55620.0</td>\n",
       "      <td>55565.0</td>\n",
       "    </tr>\n",
       "    <tr>\n",
       "      <th>4140</th>\n",
       "      <td>2018.1.2</td>\n",
       "      <td>NaN</td>\n",
       "      <td>NaN</td>\n",
       "      <td>NaN</td>\n",
       "      <td>NaN</td>\n",
       "      <td>NaN</td>\n",
       "      <td>NaN</td>\n",
       "      <td>50160.0</td>\n",
       "      <td>49555.0</td>\n",
       "    </tr>\n",
       "    <tr>\n",
       "      <th>4353</th>\n",
       "      <td>2018.11.15</td>\n",
       "      <td>NaN</td>\n",
       "      <td>NaN</td>\n",
       "      <td>NaN</td>\n",
       "      <td>NaN</td>\n",
       "      <td>NaN</td>\n",
       "      <td>NaN</td>\n",
       "      <td>44300.0</td>\n",
       "      <td>44525.0</td>\n",
       "    </tr>\n",
       "    <tr>\n",
       "      <th>4598</th>\n",
       "      <td>2019.11.14</td>\n",
       "      <td>NaN</td>\n",
       "      <td>NaN</td>\n",
       "      <td>NaN</td>\n",
       "      <td>NaN</td>\n",
       "      <td>NaN</td>\n",
       "      <td>NaN</td>\n",
       "      <td>52550.0</td>\n",
       "      <td>52200.0</td>\n",
       "    </tr>\n",
       "  </tbody>\n",
       "</table>\n",
       "</div>"
      ],
      "text/plain": [
       "            Date  Open  High  Low  Close  Adj Close  Volume      3MA      5MA\n",
       "902     2005.1.3   NaN   NaN  NaN    NaN        NaN     NaN   9010.0   8907.5\n",
       "4111  2017.11.16   NaN   NaN  NaN    NaN        NaN     NaN  55630.0  56010.0\n",
       "4116  2017.11.23   NaN   NaN  NaN    NaN        NaN     NaN  55620.0  55565.0\n",
       "4140    2018.1.2   NaN   NaN  NaN    NaN        NaN     NaN  50160.0  49555.0\n",
       "4353  2018.11.15   NaN   NaN  NaN    NaN        NaN     NaN  44300.0  44525.0\n",
       "4598  2019.11.14   NaN   NaN  NaN    NaN        NaN     NaN  52550.0  52200.0"
      ]
     },
     "execution_count": 10,
     "metadata": {},
     "output_type": "execute_result"
    }
   ],
   "source": [
    "samsung_stock.loc[samsung_stock['Open'].isnull()]"
   ]
  },
  {
   "cell_type": "code",
   "execution_count": 11,
   "id": "4bf24932",
   "metadata": {},
   "outputs": [],
   "source": [
    "samsung_stock = samsung_stock.dropna()"
   ]
  },
  {
   "cell_type": "code",
   "execution_count": 12,
   "id": "f008d8ab",
   "metadata": {},
   "outputs": [
    {
     "data": {
      "text/plain": [
       "Date         0\n",
       "Open         0\n",
       "High         0\n",
       "Low          0\n",
       "Close        0\n",
       "Adj Close    0\n",
       "Volume       0\n",
       "3MA          0\n",
       "5MA          0\n",
       "dtype: int64"
      ]
     },
     "execution_count": 12,
     "metadata": {},
     "output_type": "execute_result"
    }
   ],
   "source": [
    "# Missing Value: NaN\n",
    "samsung_stock.isnull().sum()"
   ]
  },
  {
   "cell_type": "code",
   "execution_count": 13,
   "id": "2969e02b",
   "metadata": {},
   "outputs": [],
   "source": [
    "from sklearn.preprocessing import MinMaxScaler"
   ]
  },
  {
   "cell_type": "code",
   "execution_count": 14,
   "id": "62cca39d",
   "metadata": {},
   "outputs": [],
   "source": [
    "scaler = MinMaxScaler()\n",
    "scale_cols = ['Open', 'High', 'Low', 'Close', 'Adj Close','Volume', '3MA', '5MA']\n",
    "samsung_stock_t = scaler.fit_transform(samsung_stock[scale_cols])"
   ]
  },
  {
   "cell_type": "code",
   "execution_count": 15,
   "id": "e935588f",
   "metadata": {},
   "outputs": [
    {
     "name": "stdout",
     "output_type": "stream",
     "text": [
      "<class 'numpy.ndarray'>\n"
     ]
    }
   ],
   "source": [
    "print(type(samsung_stock_t))"
   ]
  },
  {
   "cell_type": "code",
   "execution_count": 16,
   "id": "afcdd173",
   "metadata": {},
   "outputs": [],
   "source": [
    "samsung_stock_t_df = pd.DataFrame(samsung_stock_t, columns=scale_cols)"
   ]
  },
  {
   "cell_type": "code",
   "execution_count": 17,
   "id": "15908a63",
   "metadata": {},
   "outputs": [
    {
     "name": "stdout",
     "output_type": "stream",
     "text": [
      "<class 'pandas.core.frame.DataFrame'>\n"
     ]
    }
   ],
   "source": [
    "print(type(samsung_stock_t_df))"
   ]
  },
  {
   "cell_type": "code",
   "execution_count": 18,
   "id": "6610b0dd",
   "metadata": {},
   "outputs": [],
   "source": [
    "feature_cols = ['Adj Close', '3MA', '5MA']\n",
    "label_cols = ['Adj Close']"
   ]
  },
  {
   "cell_type": "code",
   "execution_count": 19,
   "id": "e14143e2",
   "metadata": {},
   "outputs": [],
   "source": [
    "label_df = samsung_stock_t_df[label_cols]"
   ]
  },
  {
   "cell_type": "code",
   "execution_count": 20,
   "id": "c38f400f",
   "metadata": {},
   "outputs": [],
   "source": [
    "feature_df = samsung_stock_t_df[feature_cols]"
   ]
  },
  {
   "cell_type": "code",
   "execution_count": 21,
   "id": "880a28a8",
   "metadata": {},
   "outputs": [
    {
     "data": {
      "text/html": [
       "<div>\n",
       "<style scoped>\n",
       "    .dataframe tbody tr th:only-of-type {\n",
       "        vertical-align: middle;\n",
       "    }\n",
       "\n",
       "    .dataframe tbody tr th {\n",
       "        vertical-align: top;\n",
       "    }\n",
       "\n",
       "    .dataframe thead th {\n",
       "        text-align: right;\n",
       "    }\n",
       "</style>\n",
       "<table border=\"1\" class=\"dataframe\">\n",
       "  <thead>\n",
       "    <tr style=\"text-align: right;\">\n",
       "      <th></th>\n",
       "      <th>Adj Close</th>\n",
       "      <th>3MA</th>\n",
       "      <th>5MA</th>\n",
       "    </tr>\n",
       "  </thead>\n",
       "  <tbody>\n",
       "    <tr>\n",
       "      <th>0</th>\n",
       "      <td>0.006668</td>\n",
       "      <td>0.007610</td>\n",
       "      <td>0.007827</td>\n",
       "    </tr>\n",
       "    <tr>\n",
       "      <th>1</th>\n",
       "      <td>0.007195</td>\n",
       "      <td>0.008257</td>\n",
       "      <td>0.008034</td>\n",
       "    </tr>\n",
       "    <tr>\n",
       "      <th>2</th>\n",
       "      <td>0.007897</td>\n",
       "      <td>0.009170</td>\n",
       "      <td>0.008470</td>\n",
       "    </tr>\n",
       "    <tr>\n",
       "      <th>3</th>\n",
       "      <td>0.007897</td>\n",
       "      <td>0.009703</td>\n",
       "      <td>0.009044</td>\n",
       "    </tr>\n",
       "    <tr>\n",
       "      <th>4</th>\n",
       "      <td>0.008599</td>\n",
       "      <td>0.010312</td>\n",
       "      <td>0.009778</td>\n",
       "    </tr>\n",
       "    <tr>\n",
       "      <th>...</th>\n",
       "      <td>...</td>\n",
       "      <td>...</td>\n",
       "      <td>...</td>\n",
       "    </tr>\n",
       "    <tr>\n",
       "      <th>4915</th>\n",
       "      <td>0.877881</td>\n",
       "      <td>0.876712</td>\n",
       "      <td>0.884770</td>\n",
       "    </tr>\n",
       "    <tr>\n",
       "      <th>4916</th>\n",
       "      <td>0.874488</td>\n",
       "      <td>0.877093</td>\n",
       "      <td>0.881786</td>\n",
       "    </tr>\n",
       "    <tr>\n",
       "      <th>4917</th>\n",
       "      <td>0.886929</td>\n",
       "      <td>0.880518</td>\n",
       "      <td>0.883393</td>\n",
       "    </tr>\n",
       "    <tr>\n",
       "      <th>4918</th>\n",
       "      <td>0.877881</td>\n",
       "      <td>0.880518</td>\n",
       "      <td>0.884311</td>\n",
       "    </tr>\n",
       "    <tr>\n",
       "      <th>4919</th>\n",
       "      <td>0.868833</td>\n",
       "      <td>0.878615</td>\n",
       "      <td>0.882704</td>\n",
       "    </tr>\n",
       "  </tbody>\n",
       "</table>\n",
       "<p>4920 rows × 3 columns</p>\n",
       "</div>"
      ],
      "text/plain": [
       "      Adj Close       3MA       5MA\n",
       "0      0.006668  0.007610  0.007827\n",
       "1      0.007195  0.008257  0.008034\n",
       "2      0.007897  0.009170  0.008470\n",
       "3      0.007897  0.009703  0.009044\n",
       "4      0.008599  0.010312  0.009778\n",
       "...         ...       ...       ...\n",
       "4915   0.877881  0.876712  0.884770\n",
       "4916   0.874488  0.877093  0.881786\n",
       "4917   0.886929  0.880518  0.883393\n",
       "4918   0.877881  0.880518  0.884311\n",
       "4919   0.868833  0.878615  0.882704\n",
       "\n",
       "[4920 rows x 3 columns]"
      ]
     },
     "execution_count": 21,
     "metadata": {},
     "output_type": "execute_result"
    }
   ],
   "source": [
    "feature_df"
   ]
  },
  {
   "cell_type": "code",
   "execution_count": 22,
   "id": "d0c6fb75",
   "metadata": {},
   "outputs": [],
   "source": [
    "label_np = label_df.to_numpy()\n",
    "feature_np = feature_df.to_numpy()"
   ]
  },
  {
   "cell_type": "code",
   "execution_count": 23,
   "id": "1460ed6b",
   "metadata": {},
   "outputs": [
    {
     "name": "stdout",
     "output_type": "stream",
     "text": [
      "feature_np.shape:  (4920, 3) \n",
      "label_np.shape:  (4920, 1)\n"
     ]
    }
   ],
   "source": [
    "print(\"feature_np.shape: \", feature_np.shape, \"\\nlabel_np.shape: \", label_np.shape)"
   ]
  },
  {
   "cell_type": "markdown",
   "id": "4fd57529",
   "metadata": {},
   "source": [
    "#### training data 생성: w = 40, h = 1"
   ]
  },
  {
   "cell_type": "code",
   "execution_count": 24,
   "id": "3572331d",
   "metadata": {},
   "outputs": [],
   "source": [
    "def seq2dataset(feature, label, w, h):\n",
    "    x_train = []\n",
    "    y_train = []\n",
    "    \n",
    "    iteration = len(feature) - (w+h) + 1\n",
    "    \n",
    "    for i in range(iteration):\n",
    "        x_in = feature[i:i+w]\n",
    "        y_in = label[i+w+h-1]\n",
    "        \n",
    "        x_train.append(x_in)\n",
    "        y_train.append(y_in)\n",
    "        \n",
    "    return np.array(x_train), np.array(y_train)"
   ]
  },
  {
   "cell_type": "code",
   "execution_count": 25,
   "id": "9a24fe0a",
   "metadata": {},
   "outputs": [],
   "source": [
    "w = 40\n",
    "h = 1\n",
    "\n",
    "x_train, y_train = seq2dataset(feature_np, label_np, w, h)"
   ]
  },
  {
   "cell_type": "code",
   "execution_count": 26,
   "id": "6d7d903f",
   "metadata": {},
   "outputs": [
    {
     "name": "stdout",
     "output_type": "stream",
     "text": [
      "x_train.shape:  (4880, 40, 3) \n",
      "y_train.shape:  (4880, 1)\n"
     ]
    }
   ],
   "source": [
    "print(\"x_train.shape: \", x_train.shape, \"\\ny_train.shape: \", y_train.shape)"
   ]
  },
  {
   "cell_type": "code",
   "execution_count": 27,
   "id": "619188ac",
   "metadata": {},
   "outputs": [],
   "source": [
    "# split x_test, y_test\n",
    "split_ratio = 0.2\n",
    "split_idx = int((1-split_ratio)*len(x_train))\n",
    "\n",
    "x_test = x_train[split_idx:]\n",
    "y_test = y_train[split_idx:]\n",
    "\n",
    "x_train = x_train[0:split_idx]\n",
    "y_train = y_train[0:split_idx]"
   ]
  },
  {
   "cell_type": "code",
   "execution_count": 28,
   "id": "dbf12193",
   "metadata": {},
   "outputs": [
    {
     "name": "stdout",
     "output_type": "stream",
     "text": [
      "x_train.shape:  (3904, 40, 3) \n",
      "y_train.shape:  (3904, 1)\n",
      "x_test.shape:  (976, 40, 3) \n",
      "y_test.shape:  (976, 1)\n"
     ]
    }
   ],
   "source": [
    "print(\"x_train.shape: \", x_train.shape, \"\\ny_train.shape: \", y_train.shape)\n",
    "print(\"x_test.shape: \", x_test.shape, \"\\ny_test.shape: \", y_test.shape)"
   ]
  },
  {
   "cell_type": "code",
   "execution_count": 29,
   "id": "bb71b1d6",
   "metadata": {},
   "outputs": [],
   "source": [
    "samsung_lstm = Sequential()\n",
    "\n",
    "samsung_lstm.add(LSTM(\n",
    "    units=128,\n",
    "    activation='tanh',\n",
    "    input_shape=x_train[0].shape\n",
    "))\n",
    "\n",
    "samsung_lstm.add(Dense(1, activation='linear'))"
   ]
  },
  {
   "cell_type": "code",
   "execution_count": 30,
   "id": "864692fa",
   "metadata": {},
   "outputs": [
    {
     "name": "stdout",
     "output_type": "stream",
     "text": [
      "Model: \"sequential\"\n",
      "_________________________________________________________________\n",
      "Layer (type)                 Output Shape              Param #   \n",
      "=================================================================\n",
      "lstm (LSTM)                  (None, 128)               67584     \n",
      "_________________________________________________________________\n",
      "dense (Dense)                (None, 1)                 129       \n",
      "=================================================================\n",
      "Total params: 67,713\n",
      "Trainable params: 67,713\n",
      "Non-trainable params: 0\n",
      "_________________________________________________________________\n"
     ]
    }
   ],
   "source": [
    "from tensorflow.keras.callbacks import EarlyStopping\n",
    "\n",
    "samsung_lstm.compile(loss='mse', optimizer='adam', metrics=['mae'])\n",
    "samsung_lstm.summary()"
   ]
  },
  {
   "cell_type": "code",
   "execution_count": 31,
   "id": "b92d0021",
   "metadata": {},
   "outputs": [
    {
     "name": "stdout",
     "output_type": "stream",
     "text": [
      "Epoch 1/100\n",
      "196/196 [==============================] - 5s 15ms/step - loss: 4.0733e-04 - mae: 0.0090 - val_loss: 9.8392e-05 - val_mae: 0.0078\n",
      "Epoch 2/100\n",
      "196/196 [==============================] - 3s 14ms/step - loss: 2.9956e-05 - mae: 0.0041 - val_loss: 1.2372e-04 - val_mae: 0.0087\n",
      "Epoch 3/100\n",
      "196/196 [==============================] - 3s 14ms/step - loss: 2.8744e-05 - mae: 0.0040 - val_loss: 1.6731e-04 - val_mae: 0.0104\n",
      "Epoch 4/100\n",
      "196/196 [==============================] - 3s 13ms/step - loss: 2.8981e-05 - mae: 0.0040 - val_loss: 8.2019e-05 - val_mae: 0.0070\n",
      "Epoch 5/100\n",
      "196/196 [==============================] - 3s 13ms/step - loss: 2.5543e-05 - mae: 0.0038 - val_loss: 9.0001e-05 - val_mae: 0.0073\n",
      "Epoch 6/100\n",
      "196/196 [==============================] - 2s 13ms/step - loss: 2.3650e-05 - mae: 0.0036 - val_loss: 1.4454e-04 - val_mae: 0.0096\n",
      "Epoch 7/100\n",
      "196/196 [==============================] - 2s 13ms/step - loss: 2.3925e-05 - mae: 0.0037 - val_loss: 8.1935e-05 - val_mae: 0.0069\n",
      "Epoch 8/100\n",
      "196/196 [==============================] - 2s 13ms/step - loss: 2.2142e-05 - mae: 0.0036 - val_loss: 1.8478e-04 - val_mae: 0.0115\n",
      "Epoch 9/100\n",
      "196/196 [==============================] - 2s 13ms/step - loss: 2.1220e-05 - mae: 0.0034 - val_loss: 4.7682e-05 - val_mae: 0.0054\n",
      "Epoch 10/100\n",
      "196/196 [==============================] - 3s 13ms/step - loss: 1.9824e-05 - mae: 0.0034 - val_loss: 2.6399e-04 - val_mae: 0.0143\n",
      "Epoch 11/100\n",
      "196/196 [==============================] - 3s 13ms/step - loss: 1.8734e-05 - mae: 0.0032 - val_loss: 1.6019e-04 - val_mae: 0.0106\n",
      "Epoch 12/100\n",
      "196/196 [==============================] - 3s 13ms/step - loss: 1.6891e-05 - mae: 0.0031 - val_loss: 6.3711e-05 - val_mae: 0.0061\n",
      "Epoch 13/100\n",
      "196/196 [==============================] - 2s 13ms/step - loss: 1.7818e-05 - mae: 0.0032 - val_loss: 4.2312e-05 - val_mae: 0.0049\n",
      "Epoch 14/100\n",
      "196/196 [==============================] - 3s 14ms/step - loss: 1.8018e-05 - mae: 0.0032 - val_loss: 9.9726e-05 - val_mae: 0.0080\n",
      "Epoch 15/100\n",
      "196/196 [==============================] - 3s 13ms/step - loss: 1.6809e-05 - mae: 0.0031 - val_loss: 4.2353e-05 - val_mae: 0.0049\n",
      "Epoch 16/100\n",
      "196/196 [==============================] - 2s 13ms/step - loss: 1.8435e-05 - mae: 0.0033 - val_loss: 1.1526e-04 - val_mae: 0.0090\n",
      "Epoch 17/100\n",
      "196/196 [==============================] - 3s 13ms/step - loss: 1.5254e-05 - mae: 0.0029 - val_loss: 4.8132e-05 - val_mae: 0.0052\n",
      "Epoch 18/100\n",
      "196/196 [==============================] - 3s 13ms/step - loss: 1.3895e-05 - mae: 0.0028 - val_loss: 3.6108e-05 - val_mae: 0.0046\n",
      "Epoch 19/100\n",
      "196/196 [==============================] - 3s 13ms/step - loss: 1.3703e-05 - mae: 0.0028 - val_loss: 5.1564e-05 - val_mae: 0.0056\n",
      "Epoch 20/100\n",
      "196/196 [==============================] - 3s 13ms/step - loss: 1.3629e-05 - mae: 0.0028 - val_loss: 4.6315e-05 - val_mae: 0.0053\n",
      "Epoch 21/100\n",
      "196/196 [==============================] - 3s 13ms/step - loss: 1.2934e-05 - mae: 0.0027 - val_loss: 3.3866e-05 - val_mae: 0.0044\n",
      "Epoch 22/100\n",
      "196/196 [==============================] - 3s 13ms/step - loss: 1.2247e-05 - mae: 0.0026 - val_loss: 1.6070e-04 - val_mae: 0.0114\n",
      "Epoch 23/100\n",
      "196/196 [==============================] - 3s 13ms/step - loss: 1.3402e-05 - mae: 0.0028 - val_loss: 5.0025e-05 - val_mae: 0.0055\n",
      "Epoch 24/100\n",
      "196/196 [==============================] - 3s 13ms/step - loss: 1.2319e-05 - mae: 0.0026 - val_loss: 3.3796e-05 - val_mae: 0.0044\n",
      "Epoch 25/100\n",
      "196/196 [==============================] - 3s 13ms/step - loss: 1.2124e-05 - mae: 0.0026 - val_loss: 4.1268e-05 - val_mae: 0.0050\n",
      "Epoch 26/100\n",
      "196/196 [==============================] - 3s 13ms/step - loss: 1.1365e-05 - mae: 0.0025 - val_loss: 4.0763e-05 - val_mae: 0.0049\n",
      "Epoch 27/100\n",
      "196/196 [==============================] - 3s 14ms/step - loss: 1.1070e-05 - mae: 0.0025 - val_loss: 4.2865e-05 - val_mae: 0.0052\n",
      "Epoch 28/100\n",
      "196/196 [==============================] - 3s 14ms/step - loss: 1.1896e-05 - mae: 0.0026 - val_loss: 2.7011e-05 - val_mae: 0.0039\n",
      "Epoch 29/100\n",
      "196/196 [==============================] - 2s 13ms/step - loss: 1.1326e-05 - mae: 0.0025 - val_loss: 2.5157e-05 - val_mae: 0.0038\n",
      "Epoch 30/100\n",
      "196/196 [==============================] - 2s 13ms/step - loss: 1.0082e-05 - mae: 0.0024 - val_loss: 8.8877e-05 - val_mae: 0.0081\n",
      "Epoch 31/100\n",
      "196/196 [==============================] - 3s 13ms/step - loss: 1.0992e-05 - mae: 0.0025 - val_loss: 2.9134e-05 - val_mae: 0.0041\n",
      "Epoch 32/100\n",
      "196/196 [==============================] - 3s 13ms/step - loss: 1.0192e-05 - mae: 0.0024 - val_loss: 4.2538e-05 - val_mae: 0.0053\n",
      "Epoch 33/100\n",
      "196/196 [==============================] - 3s 13ms/step - loss: 1.2313e-05 - mae: 0.0026 - val_loss: 2.6998e-05 - val_mae: 0.0040\n",
      "Epoch 34/100\n",
      "196/196 [==============================] - 3s 13ms/step - loss: 1.0819e-05 - mae: 0.0025 - val_loss: 3.5128e-05 - val_mae: 0.0046\n"
     ]
    },
    {
     "data": {
      "text/plain": [
       "<tensorflow.python.keras.callbacks.History at 0x161b9f4f0>"
      ]
     },
     "execution_count": 31,
     "metadata": {},
     "output_type": "execute_result"
    }
   ],
   "source": [
    "early_stop = EarlyStopping(monitor='val_loss', patience=5)\n",
    "samsung_lstm.fit(x_train, y_train, epochs=100, batch_size=16, callbacks=[early_stop], validation_split=0.2)"
   ]
  },
  {
   "cell_type": "code",
   "execution_count": 32,
   "id": "4fc257e9",
   "metadata": {},
   "outputs": [],
   "source": [
    "predict = samsung_lstm.predict(x_test)"
   ]
  },
  {
   "cell_type": "code",
   "execution_count": 33,
   "id": "44c88f70",
   "metadata": {},
   "outputs": [
    {
     "data": {
      "image/png": "[encoded data removed]",
      "text/plain": [
       "<Figure size 864x432 with 1 Axes>"
      ]
     },
     "metadata": {
      "needs_background": "light"
     },
     "output_type": "display_data"
    }
   ],
   "source": [
    "plt.figure(figsize=(12,6))\n",
    "plt.title('Samsung Stock Price Prediction', fontsize=14)\n",
    "plt.xlabel('period(day)')\n",
    "plt.ylabel('price')\n",
    "\n",
    "plt.plot(predict, label='predict')\n",
    "plt.plot(y_test, label='real')\n",
    "\n",
    "plt.grid()\n",
    "plt.legend(loc='best')\n",
    "\n",
    "plt.show()"
   ]
  },
  {
   "cell_type": "markdown",
   "id": "aee60648",
   "metadata": {},
   "source": [
    "### TESLA 주가 예측 LSTM"
   ]
  },
  {
   "cell_type": "code",
   "execution_count": 34,
   "id": "15c7f6d0",
   "metadata": {},
   "outputs": [],
   "source": [
    "tesla_data = pd.read_csv('TSLA.csv')"
   ]
  },
  {
   "cell_type": "code",
   "execution_count": 35,
   "id": "972861b4",
   "metadata": {},
   "outputs": [
    {
     "data": {
      "text/html": [
       "<div>\n",
       "<style scoped>\n",
       "    .dataframe tbody tr th:only-of-type {\n",
       "        vertical-align: middle;\n",
       "    }\n",
       "\n",
       "    .dataframe tbody tr th {\n",
       "        vertical-align: top;\n",
       "    }\n",
       "\n",
       "    .dataframe thead th {\n",
       "        text-align: right;\n",
       "    }\n",
       "</style>\n",
       "<table border=\"1\" class=\"dataframe\">\n",
       "  <thead>\n",
       "    <tr style=\"text-align: right;\">\n",
       "      <th></th>\n",
       "      <th>Open</th>\n",
       "      <th>High</th>\n",
       "      <th>Low</th>\n",
       "      <th>Close</th>\n",
       "      <th>Adj Close</th>\n",
       "      <th>Volume</th>\n",
       "      <th>3MA</th>\n",
       "      <th>5MA</th>\n",
       "    </tr>\n",
       "  </thead>\n",
       "  <tbody>\n",
       "    <tr>\n",
       "      <th>count</th>\n",
       "      <td>2781.000000</td>\n",
       "      <td>2781.000000</td>\n",
       "      <td>2781.000000</td>\n",
       "      <td>2781.000000</td>\n",
       "      <td>2781.000000</td>\n",
       "      <td>2.781000e+03</td>\n",
       "      <td>2779.000000</td>\n",
       "      <td>2777.000000</td>\n",
       "    </tr>\n",
       "    <tr>\n",
       "      <th>mean</th>\n",
       "      <td>91.781482</td>\n",
       "      <td>93.760398</td>\n",
       "      <td>89.620898</td>\n",
       "      <td>91.803386</td>\n",
       "      <td>91.803386</td>\n",
       "      <td>3.172764e+07</td>\n",
       "      <td>91.635203</td>\n",
       "      <td>91.464095</td>\n",
       "    </tr>\n",
       "    <tr>\n",
       "      <th>std</th>\n",
       "      <td>165.694420</td>\n",
       "      <td>169.354597</td>\n",
       "      <td>161.488893</td>\n",
       "      <td>165.680546</td>\n",
       "      <td>165.680546</td>\n",
       "      <td>2.867275e+07</td>\n",
       "      <td>165.323614</td>\n",
       "      <td>164.974694</td>\n",
       "    </tr>\n",
       "    <tr>\n",
       "      <th>min</th>\n",
       "      <td>3.228000</td>\n",
       "      <td>3.326000</td>\n",
       "      <td>2.996000</td>\n",
       "      <td>3.160000</td>\n",
       "      <td>3.160000</td>\n",
       "      <td>5.925000e+05</td>\n",
       "      <td>3.291333</td>\n",
       "      <td>3.352800</td>\n",
       "    </tr>\n",
       "    <tr>\n",
       "      <th>25%</th>\n",
       "      <td>8.400000</td>\n",
       "      <td>8.510000</td>\n",
       "      <td>8.162000</td>\n",
       "      <td>8.372000</td>\n",
       "      <td>8.372000</td>\n",
       "      <td>1.213900e+07</td>\n",
       "      <td>8.403667</td>\n",
       "      <td>8.426000</td>\n",
       "    </tr>\n",
       "    <tr>\n",
       "      <th>50%</th>\n",
       "      <td>45.478001</td>\n",
       "      <td>46.172001</td>\n",
       "      <td>44.599998</td>\n",
       "      <td>45.402000</td>\n",
       "      <td>45.402000</td>\n",
       "      <td>2.527550e+07</td>\n",
       "      <td>45.422667</td>\n",
       "      <td>45.412800</td>\n",
       "    </tr>\n",
       "    <tr>\n",
       "      <th>75%</th>\n",
       "      <td>63.354000</td>\n",
       "      <td>64.646004</td>\n",
       "      <td>62.259998</td>\n",
       "      <td>63.458000</td>\n",
       "      <td>63.458000</td>\n",
       "      <td>4.081550e+07</td>\n",
       "      <td>63.486334</td>\n",
       "      <td>63.580000</td>\n",
       "    </tr>\n",
       "    <tr>\n",
       "      <th>max</th>\n",
       "      <td>891.380005</td>\n",
       "      <td>900.400024</td>\n",
       "      <td>871.599976</td>\n",
       "      <td>883.090027</td>\n",
       "      <td>883.090027</td>\n",
       "      <td>3.046940e+08</td>\n",
       "      <td>876.016663</td>\n",
       "      <td>863.935999</td>\n",
       "    </tr>\n",
       "  </tbody>\n",
       "</table>\n",
       "</div>"
      ],
      "text/plain": [
       "              Open         High          Low        Close    Adj Close  \\\n",
       "count  2781.000000  2781.000000  2781.000000  2781.000000  2781.000000   \n",
       "mean     91.781482    93.760398    89.620898    91.803386    91.803386   \n",
       "std     165.694420   169.354597   161.488893   165.680546   165.680546   \n",
       "min       3.228000     3.326000     2.996000     3.160000     3.160000   \n",
       "25%       8.400000     8.510000     8.162000     8.372000     8.372000   \n",
       "50%      45.478001    46.172001    44.599998    45.402000    45.402000   \n",
       "75%      63.354000    64.646004    62.259998    63.458000    63.458000   \n",
       "max     891.380005   900.400024   871.599976   883.090027   883.090027   \n",
       "\n",
       "             Volume          3MA          5MA  \n",
       "count  2.781000e+03  2779.000000  2777.000000  \n",
       "mean   3.172764e+07    91.635203    91.464095  \n",
       "std    2.867275e+07   165.323614   164.974694  \n",
       "min    5.925000e+05     3.291333     3.352800  \n",
       "25%    1.213900e+07     8.403667     8.426000  \n",
       "50%    2.527550e+07    45.422667    45.412800  \n",
       "75%    4.081550e+07    63.486334    63.580000  \n",
       "max    3.046940e+08   876.016663   863.935999  "
      ]
     },
     "execution_count": 35,
     "metadata": {},
     "output_type": "execute_result"
    }
   ],
   "source": [
    "tesla_data.describe()"
   ]
  },
  {
   "cell_type": "code",
   "execution_count": 36,
   "id": "393121d1",
   "metadata": {},
   "outputs": [
    {
     "data": {
      "image/png": "[encoded data removed]",
      "text/plain": [
       "<Figure size 864x432 with 1 Axes>"
      ]
     },
     "metadata": {
      "needs_background": "light"
     },
     "output_type": "display_data"
    }
   ],
   "source": [
    "plt.figure(figsize=(12,6))\n",
    "plt.grid()\n",
    "plt.plot(tesla_data['Adj Close'], label='Price')\n",
    "plt.xlabel('period(days)')\n",
    "plt.ylabel('price(WON)')\n",
    "plt.legend(loc='best')\n",
    "plt.show()"
   ]
  },
  {
   "cell_type": "code",
   "execution_count": 37,
   "id": "98937c76",
   "metadata": {},
   "outputs": [
    {
     "data": {
      "text/plain": [
       "Date         0\n",
       "Open         0\n",
       "High         0\n",
       "Low          0\n",
       "Close        0\n",
       "Adj Close    0\n",
       "Volume       0\n",
       "3MA          0\n",
       "5MA          0\n",
       "dtype: int64"
      ]
     },
     "execution_count": 37,
     "metadata": {},
     "output_type": "execute_result"
    }
   ],
   "source": [
    "(tesla_data == 0).sum(axis=0)"
   ]
  },
  {
   "cell_type": "code",
   "execution_count": 38,
   "id": "31aa9b71",
   "metadata": {},
   "outputs": [
    {
     "data": {
      "text/plain": [
       "Date         0\n",
       "Open         0\n",
       "High         0\n",
       "Low          0\n",
       "Close        0\n",
       "Adj Close    0\n",
       "Volume       0\n",
       "3MA          2\n",
       "5MA          4\n",
       "dtype: int64"
      ]
     },
     "execution_count": 38,
     "metadata": {},
     "output_type": "execute_result"
    }
   ],
   "source": [
    "tesla_data.isnull().sum(axis=0)"
   ]
  },
  {
   "cell_type": "code",
   "execution_count": 39,
   "id": "831179f1",
   "metadata": {},
   "outputs": [],
   "source": [
    "tesla_data = tesla_data.dropna()"
   ]
  },
  {
   "cell_type": "code",
   "execution_count": 40,
   "id": "7ce77bd7",
   "metadata": {},
   "outputs": [],
   "source": [
    "scaler = MinMaxScaler()\n",
    "scale_cols = ['Open', 'High', 'Low', 'Close', 'Adj Close','Volume', '3MA', '5MA']\n",
    "tesla_data = pd.DataFrame(scaler.fit_transform(tesla_data[scale_cols]), columns=scale_cols)"
   ]
  },
  {
   "cell_type": "code",
   "execution_count": 41,
   "id": "7248f57d",
   "metadata": {},
   "outputs": [
    {
     "name": "stdout",
     "output_type": "stream",
     "text": [
      "fields_data.shape:  (2777, 6) \n",
      "label_data.shape:  (2777, 1)\n"
     ]
    }
   ],
   "source": [
    "fields_cols = ['High', 'Low', 'Adj Close', 'Volume', '3MA', '5MA']\n",
    "label_col = ['Adj Close']\n",
    "\n",
    "fields_data = tesla_data[fields_cols]\n",
    "label_data = tesla_data[label_col]\n",
    "\n",
    "print('fields_data.shape: ', fields_data.shape, '\\nlabel_data.shape: ', label_data.shape)"
   ]
  },
  {
   "cell_type": "code",
   "execution_count": 42,
   "id": "960e0a9e",
   "metadata": {},
   "outputs": [],
   "source": [
    "w = 28\n",
    "h = 1\n",
    "\n",
    "x_train, y_train = seq2dataset(fields_data.to_numpy(), label_data.to_numpy(), w, h)"
   ]
  },
  {
   "cell_type": "code",
   "execution_count": 43,
   "id": "67b93ea1",
   "metadata": {},
   "outputs": [
    {
     "name": "stdout",
     "output_type": "stream",
     "text": [
      "x_train.shape:  (2749, 28, 6) \n",
      "y_train.shape:  (2749, 1)\n"
     ]
    }
   ],
   "source": [
    "print('x_train.shape: ', x_train.shape, '\\ny_train.shape: ', y_train.shape)"
   ]
  },
  {
   "cell_type": "code",
   "execution_count": 44,
   "id": "b71d6b82",
   "metadata": {},
   "outputs": [],
   "source": [
    "# split x_test, y_test\n",
    "split_ratio = 0.2\n",
    "split_idx = int((1-split_ratio)*len(x_train))\n",
    "\n",
    "x_test = x_train[split_idx:]\n",
    "y_test = y_train[split_idx:]\n",
    "\n",
    "x_train = x_train[0:split_idx]\n",
    "y_train = y_train[0:split_idx]"
   ]
  },
  {
   "cell_type": "code",
   "execution_count": 45,
   "id": "c0243711",
   "metadata": {},
   "outputs": [],
   "source": [
    "tesla_lstm = Sequential()\n",
    "tesla_lstm.add(LSTM(units=128, activation='tanh', input_shape=x_train.shape[1:]))\n",
    "tesla_lstm.add(Dense(1, activation='linear'))"
   ]
  },
  {
   "cell_type": "code",
   "execution_count": 46,
   "id": "67584285",
   "metadata": {},
   "outputs": [
    {
     "name": "stdout",
     "output_type": "stream",
     "text": [
      "Model: \"sequential_1\"\n",
      "_________________________________________________________________\n",
      "Layer (type)                 Output Shape              Param #   \n",
      "=================================================================\n",
      "lstm_1 (LSTM)                (None, 128)               69120     \n",
      "_________________________________________________________________\n",
      "dense_1 (Dense)              (None, 1)                 129       \n",
      "=================================================================\n",
      "Total params: 69,249\n",
      "Trainable params: 69,249\n",
      "Non-trainable params: 0\n",
      "_________________________________________________________________\n"
     ]
    }
   ],
   "source": [
    "tesla_lstm.compile(loss='mse', optimizer='adam', metrics=['mae'])\n",
    "tesla_lstm.summary()"
   ]
  },
  {
   "cell_type": "code",
   "execution_count": 47,
   "id": "5a565e05",
   "metadata": {},
   "outputs": [
    {
     "name": "stdout",
     "output_type": "stream",
     "text": [
      "Epoch 1/100\n",
      "110/110 [==============================] - 3s 13ms/step - loss: 6.3086e-05 - mae: 0.0041 - val_loss: 1.5810e-05 - val_mae: 0.0030\n",
      "Epoch 2/100\n",
      "110/110 [==============================] - 1s 10ms/step - loss: 4.5600e-06 - mae: 0.0015 - val_loss: 1.4530e-05 - val_mae: 0.0030\n",
      "Epoch 3/100\n",
      "110/110 [==============================] - 1s 9ms/step - loss: 4.2193e-06 - mae: 0.0014 - val_loss: 1.6738e-05 - val_mae: 0.0032\n",
      "Epoch 4/100\n",
      "110/110 [==============================] - 1s 11ms/step - loss: 4.0340e-06 - mae: 0.0014 - val_loss: 1.2795e-05 - val_mae: 0.0027\n",
      "Epoch 5/100\n",
      "110/110 [==============================] - 1s 10ms/step - loss: 3.6044e-06 - mae: 0.0013 - val_loss: 1.2002e-05 - val_mae: 0.0027\n",
      "Epoch 6/100\n",
      "110/110 [==============================] - 1s 10ms/step - loss: 3.5844e-06 - mae: 0.0013 - val_loss: 1.1359e-05 - val_mae: 0.0026\n",
      "Epoch 7/100\n",
      "110/110 [==============================] - 1s 10ms/step - loss: 3.4748e-06 - mae: 0.0013 - val_loss: 1.2233e-05 - val_mae: 0.0027\n",
      "Epoch 8/100\n",
      "110/110 [==============================] - 1s 10ms/step - loss: 3.3172e-06 - mae: 0.0013 - val_loss: 1.4331e-05 - val_mae: 0.0029\n",
      "Epoch 9/100\n",
      "110/110 [==============================] - 1s 11ms/step - loss: 3.3041e-06 - mae: 0.0013 - val_loss: 1.0113e-05 - val_mae: 0.0024\n",
      "Epoch 10/100\n",
      "110/110 [==============================] - 1s 10ms/step - loss: 2.8695e-06 - mae: 0.0012 - val_loss: 1.1026e-05 - val_mae: 0.0025\n",
      "Epoch 11/100\n",
      "110/110 [==============================] - 1s 10ms/step - loss: 3.2600e-06 - mae: 0.0013 - val_loss: 9.3972e-06 - val_mae: 0.0023\n",
      "Epoch 12/100\n",
      "110/110 [==============================] - 1s 10ms/step - loss: 2.7456e-06 - mae: 0.0012 - val_loss: 9.6712e-06 - val_mae: 0.0023\n",
      "Epoch 13/100\n",
      "110/110 [==============================] - 1s 10ms/step - loss: 2.8965e-06 - mae: 0.0012 - val_loss: 8.9190e-06 - val_mae: 0.0023\n",
      "Epoch 14/100\n",
      "110/110 [==============================] - 1s 10ms/step - loss: 2.5857e-06 - mae: 0.0011 - val_loss: 9.6762e-06 - val_mae: 0.0024\n",
      "Epoch 15/100\n",
      "110/110 [==============================] - 1s 10ms/step - loss: 2.6764e-06 - mae: 0.0011 - val_loss: 9.4557e-06 - val_mae: 0.0024\n",
      "Epoch 16/100\n",
      "110/110 [==============================] - 1s 10ms/step - loss: 2.4391e-06 - mae: 0.0011 - val_loss: 8.7383e-06 - val_mae: 0.0022\n",
      "Epoch 17/100\n",
      "110/110 [==============================] - 1s 10ms/step - loss: 2.5814e-06 - mae: 0.0011 - val_loss: 8.0146e-06 - val_mae: 0.0022\n",
      "Epoch 18/100\n",
      "110/110 [==============================] - 1s 10ms/step - loss: 2.2171e-06 - mae: 0.0010 - val_loss: 8.1373e-06 - val_mae: 0.0021\n",
      "Epoch 19/100\n",
      "110/110 [==============================] - 1s 10ms/step - loss: 2.9061e-06 - mae: 0.0012 - val_loss: 7.6196e-06 - val_mae: 0.0021\n",
      "Epoch 20/100\n",
      "110/110 [==============================] - 1s 10ms/step - loss: 2.5436e-06 - mae: 0.0011 - val_loss: 7.6577e-06 - val_mae: 0.0021\n",
      "Epoch 21/100\n",
      "110/110 [==============================] - 1s 10ms/step - loss: 2.2153e-06 - mae: 0.0011 - val_loss: 7.3377e-06 - val_mae: 0.0020\n",
      "Epoch 22/100\n",
      "110/110 [==============================] - 1s 10ms/step - loss: 2.8343e-06 - mae: 0.0012 - val_loss: 8.7442e-06 - val_mae: 0.0022\n",
      "Epoch 23/100\n",
      "110/110 [==============================] - 1s 10ms/step - loss: 2.2866e-06 - mae: 0.0011 - val_loss: 7.7599e-06 - val_mae: 0.0021\n",
      "Epoch 24/100\n",
      "110/110 [==============================] - 1s 10ms/step - loss: 2.5490e-06 - mae: 0.0011 - val_loss: 1.1442e-05 - val_mae: 0.0026\n",
      "Epoch 25/100\n",
      "110/110 [==============================] - 1s 10ms/step - loss: 2.2747e-06 - mae: 0.0011 - val_loss: 8.5910e-06 - val_mae: 0.0023\n",
      "Epoch 26/100\n",
      "110/110 [==============================] - 1s 10ms/step - loss: 2.0640e-06 - mae: 0.0010 - val_loss: 8.5825e-06 - val_mae: 0.0022\n",
      "Epoch 27/100\n",
      "110/110 [==============================] - 1s 10ms/step - loss: 2.0028e-06 - mae: 9.8702e-04 - val_loss: 6.5933e-06 - val_mae: 0.0019\n",
      "Epoch 28/100\n",
      "110/110 [==============================] - 1s 10ms/step - loss: 2.0959e-06 - mae: 9.9234e-04 - val_loss: 7.1946e-06 - val_mae: 0.0020\n",
      "Epoch 29/100\n",
      "110/110 [==============================] - 1s 10ms/step - loss: 1.9742e-06 - mae: 9.7677e-04 - val_loss: 8.9029e-06 - val_mae: 0.0023\n",
      "Epoch 30/100\n",
      "110/110 [==============================] - 1s 10ms/step - loss: 1.9859e-06 - mae: 9.8887e-04 - val_loss: 6.6614e-06 - val_mae: 0.0020\n",
      "Epoch 31/100\n",
      "110/110 [==============================] - 1s 10ms/step - loss: 1.8909e-06 - mae: 9.6286e-04 - val_loss: 6.4207e-06 - val_mae: 0.0019\n",
      "Epoch 32/100\n",
      "110/110 [==============================] - 1s 10ms/step - loss: 2.5265e-06 - mae: 0.0011 - val_loss: 6.3510e-06 - val_mae: 0.0019\n",
      "Epoch 33/100\n",
      "110/110 [==============================] - 1s 10ms/step - loss: 2.2409e-06 - mae: 0.0011 - val_loss: 6.8516e-06 - val_mae: 0.0020\n",
      "Epoch 34/100\n",
      "110/110 [==============================] - 1s 10ms/step - loss: 1.8894e-06 - mae: 9.4958e-04 - val_loss: 6.1527e-06 - val_mae: 0.0018\n",
      "Epoch 35/100\n",
      "110/110 [==============================] - 1s 10ms/step - loss: 2.4328e-06 - mae: 0.0011 - val_loss: 7.7153e-06 - val_mae: 0.0022\n",
      "Epoch 36/100\n",
      "110/110 [==============================] - 1s 10ms/step - loss: 1.7684e-06 - mae: 9.2460e-04 - val_loss: 6.2120e-06 - val_mae: 0.0018\n",
      "Epoch 37/100\n",
      "110/110 [==============================] - 1s 10ms/step - loss: 2.0644e-06 - mae: 0.0010 - val_loss: 6.0579e-06 - val_mae: 0.0018\n",
      "Epoch 38/100\n",
      "110/110 [==============================] - 1s 10ms/step - loss: 1.8237e-06 - mae: 9.3993e-04 - val_loss: 6.6557e-06 - val_mae: 0.0019\n",
      "Epoch 39/100\n",
      "110/110 [==============================] - 1s 10ms/step - loss: 1.7055e-06 - mae: 8.8721e-04 - val_loss: 6.4515e-06 - val_mae: 0.0019\n",
      "Epoch 40/100\n",
      "110/110 [==============================] - 1s 10ms/step - loss: 2.0945e-06 - mae: 0.0010 - val_loss: 6.1246e-06 - val_mae: 0.0018\n",
      "Epoch 41/100\n",
      "110/110 [==============================] - 1s 10ms/step - loss: 1.7408e-06 - mae: 9.2595e-04 - val_loss: 7.0782e-06 - val_mae: 0.0020\n",
      "Epoch 42/100\n",
      "110/110 [==============================] - 1s 10ms/step - loss: 2.1341e-06 - mae: 0.0010 - val_loss: 7.3540e-06 - val_mae: 0.0020\n",
      "Epoch 43/100\n",
      "110/110 [==============================] - 1s 10ms/step - loss: 1.8641e-06 - mae: 9.5803e-04 - val_loss: 5.9335e-06 - val_mae: 0.0018\n",
      "Epoch 44/100\n",
      "110/110 [==============================] - 1s 10ms/step - loss: 1.7181e-06 - mae: 9.0954e-04 - val_loss: 6.1000e-06 - val_mae: 0.0019\n",
      "Epoch 45/100\n",
      "110/110 [==============================] - 1s 10ms/step - loss: 1.7757e-06 - mae: 9.2463e-04 - val_loss: 5.6697e-06 - val_mae: 0.0017\n",
      "Epoch 46/100\n",
      "110/110 [==============================] - 1s 10ms/step - loss: 1.9279e-06 - mae: 9.8692e-04 - val_loss: 5.9052e-06 - val_mae: 0.0017\n",
      "Epoch 47/100\n",
      "110/110 [==============================] - 1s 10ms/step - loss: 2.0939e-06 - mae: 0.0011 - val_loss: 6.7169e-06 - val_mae: 0.0020\n",
      "Epoch 48/100\n",
      "110/110 [==============================] - 1s 10ms/step - loss: 1.6060e-06 - mae: 8.6122e-04 - val_loss: 6.1433e-06 - val_mae: 0.0019\n",
      "Epoch 49/100\n",
      "110/110 [==============================] - 1s 10ms/step - loss: 1.6911e-06 - mae: 9.0937e-04 - val_loss: 6.1783e-06 - val_mae: 0.0019\n",
      "Epoch 50/100\n",
      "110/110 [==============================] - 1s 10ms/step - loss: 1.7169e-06 - mae: 9.0733e-04 - val_loss: 6.1979e-06 - val_mae: 0.0018\n",
      "Epoch 51/100\n",
      "110/110 [==============================] - 1s 10ms/step - loss: 1.5769e-06 - mae: 8.7737e-04 - val_loss: 5.9935e-06 - val_mae: 0.0018\n",
      "Epoch 52/100\n",
      "110/110 [==============================] - 1s 10ms/step - loss: 1.5040e-06 - mae: 8.3847e-04 - val_loss: 6.1097e-06 - val_mae: 0.0018\n",
      "Epoch 53/100\n",
      "110/110 [==============================] - 1s 10ms/step - loss: 2.2025e-06 - mae: 0.0011 - val_loss: 5.7249e-06 - val_mae: 0.0017\n",
      "Epoch 54/100\n",
      "110/110 [==============================] - 1s 10ms/step - loss: 1.9399e-06 - mae: 0.0010 - val_loss: 5.6064e-06 - val_mae: 0.0017\n",
      "Epoch 55/100\n",
      "110/110 [==============================] - 1s 10ms/step - loss: 1.4839e-06 - mae: 8.1220e-04 - val_loss: 5.5516e-06 - val_mae: 0.0017\n",
      "Epoch 56/100\n",
      "110/110 [==============================] - 1s 10ms/step - loss: 2.1646e-06 - mae: 0.0011 - val_loss: 5.9531e-06 - val_mae: 0.0018\n",
      "Epoch 57/100\n",
      "110/110 [==============================] - 1s 10ms/step - loss: 1.4922e-06 - mae: 8.1747e-04 - val_loss: 5.4515e-06 - val_mae: 0.0017\n"
     ]
    },
    {
     "name": "stdout",
     "output_type": "stream",
     "text": [
      "Epoch 58/100\n",
      "110/110 [==============================] - 1s 9ms/step - loss: 1.5564e-06 - mae: 8.6263e-04 - val_loss: 5.5092e-06 - val_mae: 0.0017\n",
      "Epoch 59/100\n",
      "110/110 [==============================] - 1s 9ms/step - loss: 1.4195e-06 - mae: 8.1160e-04 - val_loss: 5.6259e-06 - val_mae: 0.0017\n",
      "Epoch 60/100\n",
      "110/110 [==============================] - 1s 9ms/step - loss: 1.4617e-06 - mae: 8.2488e-04 - val_loss: 5.3626e-06 - val_mae: 0.0017\n",
      "Epoch 61/100\n",
      "110/110 [==============================] - 1s 10ms/step - loss: 1.9231e-06 - mae: 9.9594e-04 - val_loss: 5.6125e-06 - val_mae: 0.0017\n",
      "Epoch 62/100\n",
      "110/110 [==============================] - 1s 9ms/step - loss: 1.6737e-06 - mae: 8.9417e-04 - val_loss: 6.0049e-06 - val_mae: 0.0018\n",
      "Epoch 63/100\n",
      "110/110 [==============================] - 1s 9ms/step - loss: 1.6288e-06 - mae: 8.8133e-04 - val_loss: 5.4073e-06 - val_mae: 0.0017\n",
      "Epoch 64/100\n",
      "110/110 [==============================] - 1s 10ms/step - loss: 1.6676e-06 - mae: 8.9988e-04 - val_loss: 5.4616e-06 - val_mae: 0.0017\n",
      "Epoch 65/100\n",
      "110/110 [==============================] - 1s 9ms/step - loss: 1.6653e-06 - mae: 9.1120e-04 - val_loss: 5.5397e-06 - val_mae: 0.0017\n",
      "Epoch 66/100\n",
      "110/110 [==============================] - 1s 10ms/step - loss: 1.5447e-06 - mae: 8.3209e-04 - val_loss: 9.0503e-06 - val_mae: 0.0024\n",
      "Epoch 67/100\n",
      "110/110 [==============================] - 1s 9ms/step - loss: 1.5085e-06 - mae: 8.5192e-04 - val_loss: 5.6839e-06 - val_mae: 0.0017\n",
      "Epoch 68/100\n",
      "110/110 [==============================] - 1s 10ms/step - loss: 1.8004e-06 - mae: 9.6873e-04 - val_loss: 5.4471e-06 - val_mae: 0.0017\n",
      "Epoch 69/100\n",
      "110/110 [==============================] - 1s 10ms/step - loss: 1.7183e-06 - mae: 9.2551e-04 - val_loss: 6.8765e-06 - val_mae: 0.0019\n",
      "Epoch 70/100\n",
      "110/110 [==============================] - 1s 10ms/step - loss: 1.7411e-06 - mae: 9.6113e-04 - val_loss: 5.5364e-06 - val_mae: 0.0017\n",
      "Epoch 71/100\n",
      "110/110 [==============================] - 1s 9ms/step - loss: 1.4982e-06 - mae: 8.3926e-04 - val_loss: 5.4956e-06 - val_mae: 0.0017\n",
      "Epoch 72/100\n",
      "110/110 [==============================] - 1s 9ms/step - loss: 1.8056e-06 - mae: 9.7906e-04 - val_loss: 6.4174e-06 - val_mae: 0.0018\n",
      "Epoch 73/100\n",
      "110/110 [==============================] - 1s 10ms/step - loss: 1.5066e-06 - mae: 8.4246e-04 - val_loss: 5.8591e-06 - val_mae: 0.0017\n",
      "Epoch 74/100\n",
      "110/110 [==============================] - 1s 10ms/step - loss: 1.4354e-06 - mae: 8.3059e-04 - val_loss: 5.7539e-06 - val_mae: 0.0017\n",
      "Epoch 75/100\n",
      "110/110 [==============================] - 1s 10ms/step - loss: 1.5778e-06 - mae: 8.6253e-04 - val_loss: 5.4380e-06 - val_mae: 0.0017\n",
      "Epoch 76/100\n",
      "110/110 [==============================] - 1s 10ms/step - loss: 1.4084e-06 - mae: 8.2546e-04 - val_loss: 5.6100e-06 - val_mae: 0.0017\n",
      "Epoch 77/100\n",
      "110/110 [==============================] - 1s 9ms/step - loss: 1.7347e-06 - mae: 9.4217e-04 - val_loss: 6.0262e-06 - val_mae: 0.0018\n",
      "Epoch 78/100\n",
      "110/110 [==============================] - 1s 9ms/step - loss: 1.5112e-06 - mae: 8.5265e-04 - val_loss: 8.7483e-06 - val_mae: 0.0023\n",
      "Epoch 79/100\n",
      "110/110 [==============================] - 1s 10ms/step - loss: 1.4206e-06 - mae: 8.0457e-04 - val_loss: 5.8693e-06 - val_mae: 0.0017\n",
      "Epoch 80/100\n",
      "110/110 [==============================] - 1s 10ms/step - loss: 1.5158e-06 - mae: 8.4703e-04 - val_loss: 5.4835e-06 - val_mae: 0.0017\n",
      "Epoch 81/100\n",
      "110/110 [==============================] - 1s 10ms/step - loss: 1.7109e-06 - mae: 9.4255e-04 - val_loss: 5.4938e-06 - val_mae: 0.0017\n",
      "Epoch 82/100\n",
      "110/110 [==============================] - 1s 10ms/step - loss: 1.5261e-06 - mae: 8.6665e-04 - val_loss: 5.4922e-06 - val_mae: 0.0017\n",
      "Epoch 83/100\n",
      "110/110 [==============================] - 1s 9ms/step - loss: 1.4200e-06 - mae: 8.2962e-04 - val_loss: 5.8572e-06 - val_mae: 0.0017\n",
      "Epoch 84/100\n",
      "110/110 [==============================] - 1s 10ms/step - loss: 1.4716e-06 - mae: 8.2757e-04 - val_loss: 5.5016e-06 - val_mae: 0.0017\n",
      "Epoch 85/100\n",
      "110/110 [==============================] - 1s 10ms/step - loss: 1.3839e-06 - mae: 7.9110e-04 - val_loss: 5.7823e-06 - val_mae: 0.0017\n",
      "Epoch 86/100\n",
      "110/110 [==============================] - 1s 10ms/step - loss: 1.7547e-06 - mae: 9.5083e-04 - val_loss: 6.1163e-06 - val_mae: 0.0018\n",
      "Epoch 87/100\n",
      "110/110 [==============================] - 1s 10ms/step - loss: 1.5308e-06 - mae: 8.5879e-04 - val_loss: 5.4153e-06 - val_mae: 0.0017\n",
      "Epoch 88/100\n",
      "110/110 [==============================] - 1s 10ms/step - loss: 1.7887e-06 - mae: 9.7274e-04 - val_loss: 5.4890e-06 - val_mae: 0.0017\n",
      "Epoch 89/100\n",
      "110/110 [==============================] - 1s 9ms/step - loss: 1.4807e-06 - mae: 8.5708e-04 - val_loss: 5.5158e-06 - val_mae: 0.0017\n",
      "Epoch 90/100\n",
      "110/110 [==============================] - 1s 10ms/step - loss: 1.4319e-06 - mae: 8.3211e-04 - val_loss: 5.6137e-06 - val_mae: 0.0017\n",
      "Epoch 91/100\n",
      "110/110 [==============================] - 1s 10ms/step - loss: 1.4078e-06 - mae: 7.9625e-04 - val_loss: 6.6264e-06 - val_mae: 0.0019\n",
      "Epoch 92/100\n",
      "110/110 [==============================] - 1s 10ms/step - loss: 1.5984e-06 - mae: 8.9323e-04 - val_loss: 5.6736e-06 - val_mae: 0.0017\n",
      "Epoch 93/100\n",
      "110/110 [==============================] - 1s 9ms/step - loss: 1.6044e-06 - mae: 8.9789e-04 - val_loss: 8.0153e-06 - val_mae: 0.0022\n",
      "Epoch 94/100\n",
      "110/110 [==============================] - 1s 10ms/step - loss: 1.6417e-06 - mae: 9.1922e-04 - val_loss: 5.8679e-06 - val_mae: 0.0017\n",
      "Epoch 95/100\n",
      "110/110 [==============================] - 1s 10ms/step - loss: 1.3851e-06 - mae: 8.1252e-04 - val_loss: 6.2744e-06 - val_mae: 0.0018\n",
      "Epoch 96/100\n",
      "110/110 [==============================] - 1s 10ms/step - loss: 1.4464e-06 - mae: 8.2859e-04 - val_loss: 5.5483e-06 - val_mae: 0.0017\n",
      "Epoch 97/100\n",
      "110/110 [==============================] - 1s 10ms/step - loss: 1.4818e-06 - mae: 8.4888e-04 - val_loss: 5.5184e-06 - val_mae: 0.0017\n",
      "Epoch 98/100\n",
      "110/110 [==============================] - 1s 9ms/step - loss: 1.3991e-06 - mae: 8.0534e-04 - val_loss: 5.5483e-06 - val_mae: 0.0017\n",
      "Epoch 99/100\n",
      "110/110 [==============================] - 1s 9ms/step - loss: 1.4966e-06 - mae: 8.3484e-04 - val_loss: 5.6193e-06 - val_mae: 0.0017\n",
      "Epoch 100/100\n",
      "110/110 [==============================] - 1s 9ms/step - loss: 1.3844e-06 - mae: 8.0649e-04 - val_loss: 5.5645e-06 - val_mae: 0.0017\n"
     ]
    },
    {
     "data": {
      "text/plain": [
       "<tensorflow.python.keras.callbacks.History at 0x1628f6a90>"
      ]
     },
     "execution_count": 47,
     "metadata": {},
     "output_type": "execute_result"
    }
   ],
   "source": [
    "tesla_lstm.fit(x_train, y_train, epochs=100, batch_size=16, validation_split=0.2)"
   ]
  },
  {
   "cell_type": "code",
   "execution_count": 48,
   "id": "14682957",
   "metadata": {},
   "outputs": [
    {
     "data": {
      "image/png": "[encoded data removed]",
      "text/plain": [
       "<Figure size 864x432 with 1 Axes>"
      ]
     },
     "metadata": {
      "needs_background": "light"
     },
     "output_type": "display_data"
    }
   ],
   "source": [
    "predict = tesla_lstm.predict(x_test)\n",
    "\n",
    "plt.figure(figsize=(12,6))\n",
    "plt.title('Tesla Stock Price Prediction', fontsize=14)\n",
    "plt.xlabel('period(day)')\n",
    "plt.ylabel('price')\n",
    "\n",
    "plt.plot(predict, label='predict')\n",
    "plt.plot(y_test, label='real')\n",
    "\n",
    "plt.grid()\n",
    "plt.legend(loc='best')\n",
    "\n",
    "plt.show()"
   ]
  },
  {
   "cell_type": "markdown",
   "id": "2da39b9f",
   "metadata": {},
   "source": [
    "#### Tesla LSTM predict 2 weeks later stock price"
   ]
  },
  {
   "cell_type": "code",
   "execution_count": 49,
   "id": "74cf4153",
   "metadata": {},
   "outputs": [],
   "source": [
    "w = 28\n",
    "d = 14\n",
    "\n",
    "x_train, y_train = seq2dataset(fields_data.to_numpy(), label_data.to_numpy(), w, h)"
   ]
  },
  {
   "cell_type": "code",
   "execution_count": 50,
   "id": "67022ed4",
   "metadata": {},
   "outputs": [
    {
     "name": "stdout",
     "output_type": "stream",
     "text": [
      "x_train.shape:  (2749, 28, 6) \n",
      "y_train.shape:  (2749, 1)\n"
     ]
    }
   ],
   "source": [
    "print('x_train.shape: ', x_train.shape, '\\ny_train.shape: ', y_train.shape)"
   ]
  },
  {
   "cell_type": "code",
   "execution_count": 51,
   "id": "1acb26e5",
   "metadata": {},
   "outputs": [],
   "source": [
    "# split x_test, y_test\n",
    "split_ratio = 0.2\n",
    "split_idx = int((1-split_ratio)*len(x_train))\n",
    "\n",
    "x_test = x_train[split_idx:]\n",
    "y_test = y_train[split_idx:]\n",
    "\n",
    "x_train = x_train[0:split_idx]\n",
    "y_train = y_train[0:split_idx]"
   ]
  },
  {
   "cell_type": "code",
   "execution_count": 56,
   "id": "9c848380",
   "metadata": {},
   "outputs": [
    {
     "name": "stdout",
     "output_type": "stream",
     "text": [
      "Model: \"sequential_4\"\n",
      "_________________________________________________________________\n",
      "Layer (type)                 Output Shape              Param #   \n",
      "=================================================================\n",
      "lstm_4 (LSTM)                (None, 128)               69120     \n",
      "_________________________________________________________________\n",
      "dense_4 (Dense)              (None, 1)                 129       \n",
      "=================================================================\n",
      "Total params: 69,249\n",
      "Trainable params: 69,249\n",
      "Non-trainable params: 0\n",
      "_________________________________________________________________\n"
     ]
    }
   ],
   "source": [
    "tesla_lstm_2_weeks = Sequential()\n",
    "tesla_lstm_2_weeks.add(LSTM(units=128, activation='tanh', input_shape=x_train.shape[1:]))\n",
    "tesla_lstm_2_weeks.add(Dense(1, activation='linear'))\n",
    "tesla_lstm_2_weeks.compile(loss='mse', optimizer='adam', metrics=['mae'])\n",
    "tesla_lstm_2_weeks.summary()"
   ]
  },
  {
   "cell_type": "code",
   "execution_count": 57,
   "id": "5e482976",
   "metadata": {},
   "outputs": [
    {
     "name": "stdout",
     "output_type": "stream",
     "text": [
      "Epoch 1/100\n",
      "110/110 [==============================] - 3s 13ms/step - loss: 3.7719e-05 - mae: 0.0034 - val_loss: 1.6341e-05 - val_mae: 0.0031\n",
      "Epoch 2/100\n",
      "110/110 [==============================] - 1s 10ms/step - loss: 4.2600e-06 - mae: 0.0014 - val_loss: 1.5840e-05 - val_mae: 0.0031\n",
      "Epoch 3/100\n",
      "110/110 [==============================] - 1s 11ms/step - loss: 4.2756e-06 - mae: 0.0015 - val_loss: 1.2751e-05 - val_mae: 0.0028\n",
      "Epoch 4/100\n",
      "110/110 [==============================] - 1s 11ms/step - loss: 4.3969e-06 - mae: 0.0015 - val_loss: 1.4091e-05 - val_mae: 0.0029\n",
      "Epoch 5/100\n",
      "110/110 [==============================] - 1s 10ms/step - loss: 3.7030e-06 - mae: 0.0014 - val_loss: 1.2150e-05 - val_mae: 0.0027\n",
      "Epoch 6/100\n",
      "110/110 [==============================] - 1s 10ms/step - loss: 3.9264e-06 - mae: 0.0014 - val_loss: 1.2335e-05 - val_mae: 0.0027\n",
      "Epoch 7/100\n",
      "110/110 [==============================] - 1s 10ms/step - loss: 3.4063e-06 - mae: 0.0013 - val_loss: 1.0733e-05 - val_mae: 0.0025\n",
      "Epoch 8/100\n",
      "110/110 [==============================] - 1s 10ms/step - loss: 3.1441e-06 - mae: 0.0013 - val_loss: 1.0510e-05 - val_mae: 0.0025\n",
      "Epoch 9/100\n",
      "110/110 [==============================] - 1s 11ms/step - loss: 2.9491e-06 - mae: 0.0012 - val_loss: 9.8709e-06 - val_mae: 0.0024\n",
      "Epoch 10/100\n",
      "110/110 [==============================] - 1s 10ms/step - loss: 3.1106e-06 - mae: 0.0012 - val_loss: 1.2927e-05 - val_mae: 0.0027\n",
      "Epoch 11/100\n",
      "110/110 [==============================] - 1s 11ms/step - loss: 2.9337e-06 - mae: 0.0012 - val_loss: 9.4508e-06 - val_mae: 0.0023\n",
      "Epoch 12/100\n",
      "110/110 [==============================] - 1s 10ms/step - loss: 3.3149e-06 - mae: 0.0013 - val_loss: 8.8797e-06 - val_mae: 0.0023\n",
      "Epoch 13/100\n",
      "110/110 [==============================] - 1s 10ms/step - loss: 2.6935e-06 - mae: 0.0012 - val_loss: 8.9350e-06 - val_mae: 0.0023\n",
      "Epoch 14/100\n",
      "110/110 [==============================] - 1s 11ms/step - loss: 2.5847e-06 - mae: 0.0011 - val_loss: 8.5531e-06 - val_mae: 0.0022\n",
      "Epoch 15/100\n",
      "110/110 [==============================] - 1s 10ms/step - loss: 2.4119e-06 - mae: 0.0011 - val_loss: 8.3609e-06 - val_mae: 0.0022\n",
      "Epoch 16/100\n",
      "110/110 [==============================] - 1s 11ms/step - loss: 2.4590e-06 - mae: 0.0011 - val_loss: 8.6237e-06 - val_mae: 0.0022\n",
      "Epoch 17/100\n",
      "110/110 [==============================] - 1s 10ms/step - loss: 2.4550e-06 - mae: 0.0011 - val_loss: 7.9711e-06 - val_mae: 0.0021\n",
      "Epoch 18/100\n",
      "110/110 [==============================] - 1s 10ms/step - loss: 2.5270e-06 - mae: 0.0011 - val_loss: 9.7062e-06 - val_mae: 0.0024\n",
      "Epoch 19/100\n",
      "110/110 [==============================] - 1s 11ms/step - loss: 2.6493e-06 - mae: 0.0012 - val_loss: 8.4685e-06 - val_mae: 0.0022\n",
      "Epoch 20/100\n",
      "110/110 [==============================] - 1s 10ms/step - loss: 2.8669e-06 - mae: 0.0012 - val_loss: 7.4154e-06 - val_mae: 0.0021\n",
      "Epoch 21/100\n",
      "110/110 [==============================] - 1s 10ms/step - loss: 2.2916e-06 - mae: 0.0011 - val_loss: 8.2644e-06 - val_mae: 0.0021\n",
      "Epoch 22/100\n",
      "110/110 [==============================] - 1s 10ms/step - loss: 2.4964e-06 - mae: 0.0011 - val_loss: 8.2066e-06 - val_mae: 0.0022\n",
      "Epoch 23/100\n",
      "110/110 [==============================] - 1s 10ms/step - loss: 2.0827e-06 - mae: 9.5638e-04 - val_loss: 7.0637e-06 - val_mae: 0.0020\n",
      "Epoch 24/100\n",
      "110/110 [==============================] - 1s 10ms/step - loss: 2.9210e-06 - mae: 0.0013 - val_loss: 7.5652e-06 - val_mae: 0.0022\n",
      "Epoch 25/100\n",
      "110/110 [==============================] - 1s 10ms/step - loss: 2.3805e-06 - mae: 0.0011 - val_loss: 8.1841e-06 - val_mae: 0.0022\n",
      "Epoch 26/100\n",
      "110/110 [==============================] - 1s 10ms/step - loss: 2.1347e-06 - mae: 0.0010 - val_loss: 7.1433e-06 - val_mae: 0.0020\n",
      "Epoch 27/100\n",
      "110/110 [==============================] - 1s 10ms/step - loss: 2.1373e-06 - mae: 0.0010 - val_loss: 9.7911e-06 - val_mae: 0.0025\n",
      "Epoch 28/100\n",
      "110/110 [==============================] - 1s 10ms/step - loss: 2.2174e-06 - mae: 0.0010 - val_loss: 6.7472e-06 - val_mae: 0.0019\n",
      "Epoch 29/100\n",
      "110/110 [==============================] - 1s 10ms/step - loss: 1.9107e-06 - mae: 9.6035e-04 - val_loss: 7.9268e-06 - val_mae: 0.0021\n",
      "Epoch 30/100\n",
      "110/110 [==============================] - 1s 10ms/step - loss: 1.9858e-06 - mae: 9.8894e-04 - val_loss: 6.3707e-06 - val_mae: 0.0019\n",
      "Epoch 31/100\n",
      "110/110 [==============================] - 1s 10ms/step - loss: 1.9725e-06 - mae: 9.7458e-04 - val_loss: 9.0375e-06 - val_mae: 0.0023\n",
      "Epoch 32/100\n",
      "110/110 [==============================] - 1s 10ms/step - loss: 1.8686e-06 - mae: 9.6297e-04 - val_loss: 6.1955e-06 - val_mae: 0.0019\n",
      "Epoch 33/100\n",
      "110/110 [==============================] - 1s 10ms/step - loss: 1.9181e-06 - mae: 9.7803e-04 - val_loss: 6.1464e-06 - val_mae: 0.0018\n",
      "Epoch 34/100\n",
      "110/110 [==============================] - 1s 10ms/step - loss: 2.0033e-06 - mae: 0.0010 - val_loss: 6.1408e-06 - val_mae: 0.0018\n",
      "Epoch 35/100\n",
      "110/110 [==============================] - 1s 10ms/step - loss: 1.9838e-06 - mae: 9.9457e-04 - val_loss: 6.0430e-06 - val_mae: 0.0018\n",
      "Epoch 36/100\n",
      "110/110 [==============================] - 1s 10ms/step - loss: 1.7924e-06 - mae: 9.3522e-04 - val_loss: 6.1896e-06 - val_mae: 0.0019\n",
      "Epoch 37/100\n",
      "110/110 [==============================] - 1s 10ms/step - loss: 1.7406e-06 - mae: 9.1735e-04 - val_loss: 6.0134e-06 - val_mae: 0.0018\n",
      "Epoch 38/100\n",
      "110/110 [==============================] - 1s 10ms/step - loss: 2.0059e-06 - mae: 0.0010 - val_loss: 1.1161e-05 - val_mae: 0.0027\n",
      "Epoch 39/100\n",
      "110/110 [==============================] - 1s 10ms/step - loss: 1.8977e-06 - mae: 9.7733e-04 - val_loss: 6.4834e-06 - val_mae: 0.0019\n",
      "Epoch 40/100\n",
      "110/110 [==============================] - 1s 10ms/step - loss: 1.8079e-06 - mae: 9.5751e-04 - val_loss: 7.6122e-06 - val_mae: 0.0022\n",
      "Epoch 41/100\n",
      "110/110 [==============================] - 1s 10ms/step - loss: 1.9866e-06 - mae: 9.9927e-04 - val_loss: 5.7577e-06 - val_mae: 0.0018\n",
      "Epoch 42/100\n",
      "110/110 [==============================] - 1s 10ms/step - loss: 1.9167e-06 - mae: 0.0010 - val_loss: 6.9720e-06 - val_mae: 0.0020\n",
      "Epoch 43/100\n",
      "110/110 [==============================] - 1s 10ms/step - loss: 1.7234e-06 - mae: 9.0983e-04 - val_loss: 6.4076e-06 - val_mae: 0.0018\n",
      "Epoch 44/100\n",
      "110/110 [==============================] - 1s 10ms/step - loss: 1.7364e-06 - mae: 9.1858e-04 - val_loss: 5.7767e-06 - val_mae: 0.0017\n",
      "Epoch 45/100\n",
      "110/110 [==============================] - 1s 10ms/step - loss: 1.8726e-06 - mae: 9.8633e-04 - val_loss: 7.2341e-06 - val_mae: 0.0020\n",
      "Epoch 46/100\n",
      "110/110 [==============================] - 1s 10ms/step - loss: 1.9567e-06 - mae: 0.0010 - val_loss: 6.2548e-06 - val_mae: 0.0019\n",
      "Epoch 47/100\n",
      "110/110 [==============================] - 1s 10ms/step - loss: 1.7832e-06 - mae: 9.4508e-04 - val_loss: 7.1250e-06 - val_mae: 0.0020\n",
      "Epoch 48/100\n",
      "110/110 [==============================] - 1s 10ms/step - loss: 1.8603e-06 - mae: 9.8809e-04 - val_loss: 5.7327e-06 - val_mae: 0.0017\n",
      "Epoch 49/100\n",
      "110/110 [==============================] - 1s 10ms/step - loss: 1.6091e-06 - mae: 8.8941e-04 - val_loss: 6.5376e-06 - val_mae: 0.0019\n",
      "Epoch 50/100\n",
      "110/110 [==============================] - 1s 10ms/step - loss: 2.0038e-06 - mae: 0.0010 - val_loss: 5.6306e-06 - val_mae: 0.0017\n",
      "Epoch 51/100\n",
      "110/110 [==============================] - 1s 10ms/step - loss: 1.8239e-06 - mae: 9.6558e-04 - val_loss: 6.6383e-06 - val_mae: 0.0020\n",
      "Epoch 52/100\n",
      "110/110 [==============================] - 1s 10ms/step - loss: 1.6138e-06 - mae: 8.8699e-04 - val_loss: 5.7961e-06 - val_mae: 0.0017\n",
      "Epoch 53/100\n",
      "110/110 [==============================] - 1s 10ms/step - loss: 1.8569e-06 - mae: 9.7696e-04 - val_loss: 6.7877e-06 - val_mae: 0.0019\n",
      "Epoch 54/100\n",
      "110/110 [==============================] - 1s 10ms/step - loss: 1.6947e-06 - mae: 9.1060e-04 - val_loss: 7.2999e-06 - val_mae: 0.0020\n",
      "Epoch 55/100\n",
      "110/110 [==============================] - 1s 10ms/step - loss: 1.6295e-06 - mae: 8.8583e-04 - val_loss: 5.5165e-06 - val_mae: 0.0017\n",
      "Epoch 56/100\n",
      "110/110 [==============================] - 1s 10ms/step - loss: 1.7159e-06 - mae: 9.2146e-04 - val_loss: 7.2861e-06 - val_mae: 0.0020\n",
      "Epoch 57/100\n"
     ]
    },
    {
     "name": "stdout",
     "output_type": "stream",
     "text": [
      "110/110 [==============================] - 1s 10ms/step - loss: 1.6573e-06 - mae: 9.0212e-04 - val_loss: 6.0745e-06 - val_mae: 0.0018\n",
      "Epoch 58/100\n",
      "110/110 [==============================] - 1s 11ms/step - loss: 1.6410e-06 - mae: 8.9268e-04 - val_loss: 5.4013e-06 - val_mae: 0.0017\n",
      "Epoch 59/100\n",
      "110/110 [==============================] - 1s 10ms/step - loss: 1.6749e-06 - mae: 9.1770e-04 - val_loss: 5.9536e-06 - val_mae: 0.0017\n",
      "Epoch 60/100\n",
      "110/110 [==============================] - 1s 10ms/step - loss: 1.5890e-06 - mae: 8.9101e-04 - val_loss: 7.2153e-06 - val_mae: 0.0020\n",
      "Epoch 61/100\n",
      "110/110 [==============================] - 1s 10ms/step - loss: 1.6810e-06 - mae: 9.0290e-04 - val_loss: 5.8087e-06 - val_mae: 0.0017\n",
      "Epoch 62/100\n",
      "110/110 [==============================] - 1s 10ms/step - loss: 1.8241e-06 - mae: 9.6481e-04 - val_loss: 5.9127e-06 - val_mae: 0.0018\n",
      "Epoch 63/100\n",
      "110/110 [==============================] - 1s 10ms/step - loss: 1.5231e-06 - mae: 8.7626e-04 - val_loss: 5.4691e-06 - val_mae: 0.0017\n",
      "Epoch 64/100\n",
      "110/110 [==============================] - 1s 10ms/step - loss: 1.7482e-06 - mae: 9.4547e-04 - val_loss: 5.6658e-06 - val_mae: 0.0017\n",
      "Epoch 65/100\n",
      "110/110 [==============================] - 1s 10ms/step - loss: 1.4992e-06 - mae: 8.4440e-04 - val_loss: 6.3608e-06 - val_mae: 0.0018\n",
      "Epoch 66/100\n",
      "110/110 [==============================] - 1s 10ms/step - loss: 1.6414e-06 - mae: 8.9141e-04 - val_loss: 7.0206e-06 - val_mae: 0.0020\n",
      "Epoch 67/100\n",
      "110/110 [==============================] - 1s 10ms/step - loss: 1.6007e-06 - mae: 9.0854e-04 - val_loss: 5.7194e-06 - val_mae: 0.0017\n",
      "Epoch 68/100\n",
      "110/110 [==============================] - 1s 10ms/step - loss: 1.6363e-06 - mae: 8.9214e-04 - val_loss: 7.4477e-06 - val_mae: 0.0021\n",
      "Epoch 69/100\n",
      "110/110 [==============================] - 1s 10ms/step - loss: 1.8201e-06 - mae: 9.7362e-04 - val_loss: 6.8236e-06 - val_mae: 0.0019\n",
      "Epoch 70/100\n",
      "110/110 [==============================] - 1s 10ms/step - loss: 1.6041e-06 - mae: 8.7824e-04 - val_loss: 5.9032e-06 - val_mae: 0.0017\n",
      "Epoch 71/100\n",
      "110/110 [==============================] - 1s 10ms/step - loss: 1.4268e-06 - mae: 8.1523e-04 - val_loss: 5.8206e-06 - val_mae: 0.0017\n",
      "Epoch 72/100\n",
      "110/110 [==============================] - 1s 10ms/step - loss: 1.6981e-06 - mae: 9.2273e-04 - val_loss: 6.2188e-06 - val_mae: 0.0018\n",
      "Epoch 73/100\n",
      "110/110 [==============================] - 1s 10ms/step - loss: 1.3949e-06 - mae: 8.0106e-04 - val_loss: 6.4630e-06 - val_mae: 0.0019\n",
      "Epoch 74/100\n",
      "110/110 [==============================] - 1s 10ms/step - loss: 1.5078e-06 - mae: 8.5737e-04 - val_loss: 6.1438e-06 - val_mae: 0.0018\n",
      "Epoch 75/100\n",
      "110/110 [==============================] - 1s 10ms/step - loss: 1.4783e-06 - mae: 8.3860e-04 - val_loss: 5.6138e-06 - val_mae: 0.0017\n",
      "Epoch 76/100\n",
      "110/110 [==============================] - 1s 10ms/step - loss: 1.5909e-06 - mae: 8.9392e-04 - val_loss: 6.0794e-06 - val_mae: 0.0018\n",
      "Epoch 77/100\n",
      "110/110 [==============================] - 1s 10ms/step - loss: 1.6301e-06 - mae: 8.9322e-04 - val_loss: 6.3185e-06 - val_mae: 0.0018\n",
      "Epoch 78/100\n",
      "110/110 [==============================] - 1s 10ms/step - loss: 1.4807e-06 - mae: 8.2756e-04 - val_loss: 6.4383e-06 - val_mae: 0.0019\n",
      "Epoch 79/100\n",
      "110/110 [==============================] - 1s 10ms/step - loss: 1.5658e-06 - mae: 8.6522e-04 - val_loss: 5.6588e-06 - val_mae: 0.0017\n",
      "Epoch 80/100\n",
      "110/110 [==============================] - 1s 10ms/step - loss: 1.6248e-06 - mae: 8.9023e-04 - val_loss: 5.8009e-06 - val_mae: 0.0017\n",
      "Epoch 81/100\n",
      "110/110 [==============================] - 1s 10ms/step - loss: 1.5664e-06 - mae: 8.7886e-04 - val_loss: 6.0146e-06 - val_mae: 0.0018\n",
      "Epoch 82/100\n",
      "110/110 [==============================] - 1s 10ms/step - loss: 1.3677e-06 - mae: 8.0208e-04 - val_loss: 5.8192e-06 - val_mae: 0.0017\n",
      "Epoch 83/100\n",
      "110/110 [==============================] - 1s 10ms/step - loss: 1.4898e-06 - mae: 8.5280e-04 - val_loss: 6.9159e-06 - val_mae: 0.0020\n",
      "Epoch 84/100\n",
      "110/110 [==============================] - 1s 10ms/step - loss: 1.4198e-06 - mae: 8.0343e-04 - val_loss: 6.1066e-06 - val_mae: 0.0018\n",
      "Epoch 85/100\n",
      "110/110 [==============================] - 1s 10ms/step - loss: 1.7179e-06 - mae: 9.6067e-04 - val_loss: 5.5772e-06 - val_mae: 0.0017\n",
      "Epoch 86/100\n",
      "110/110 [==============================] - 1s 10ms/step - loss: 1.5704e-06 - mae: 8.9080e-04 - val_loss: 6.5007e-06 - val_mae: 0.0019\n",
      "Epoch 87/100\n",
      "110/110 [==============================] - 1s 10ms/step - loss: 1.7161e-06 - mae: 9.3327e-04 - val_loss: 6.4945e-06 - val_mae: 0.0019\n",
      "Epoch 88/100\n",
      "110/110 [==============================] - 1s 10ms/step - loss: 1.6802e-06 - mae: 9.1231e-04 - val_loss: 5.6930e-06 - val_mae: 0.0017\n",
      "Epoch 89/100\n",
      "110/110 [==============================] - 1s 10ms/step - loss: 1.4347e-06 - mae: 8.1469e-04 - val_loss: 5.9523e-06 - val_mae: 0.0018\n",
      "Epoch 90/100\n",
      "110/110 [==============================] - 1s 10ms/step - loss: 1.4318e-06 - mae: 8.0834e-04 - val_loss: 5.7863e-06 - val_mae: 0.0017\n",
      "Epoch 91/100\n",
      "110/110 [==============================] - 1s 10ms/step - loss: 1.6531e-06 - mae: 9.0362e-04 - val_loss: 1.0302e-05 - val_mae: 0.0026\n",
      "Epoch 92/100\n",
      "110/110 [==============================] - 1s 10ms/step - loss: 1.9995e-06 - mae: 0.0010 - val_loss: 6.8028e-06 - val_mae: 0.0019\n",
      "Epoch 93/100\n",
      "110/110 [==============================] - 1s 10ms/step - loss: 1.7556e-06 - mae: 9.6382e-04 - val_loss: 5.6780e-06 - val_mae: 0.0017\n",
      "Epoch 94/100\n",
      "110/110 [==============================] - 1s 10ms/step - loss: 1.6010e-06 - mae: 8.9054e-04 - val_loss: 6.1569e-06 - val_mae: 0.0018\n",
      "Epoch 95/100\n",
      "110/110 [==============================] - 1s 10ms/step - loss: 1.4281e-06 - mae: 8.0643e-04 - val_loss: 7.8232e-06 - val_mae: 0.0021\n",
      "Epoch 96/100\n",
      "110/110 [==============================] - 1s 10ms/step - loss: 1.8534e-06 - mae: 0.0010 - val_loss: 5.6733e-06 - val_mae: 0.0017\n",
      "Epoch 97/100\n",
      "110/110 [==============================] - 1s 10ms/step - loss: 1.4546e-06 - mae: 8.1521e-04 - val_loss: 5.7416e-06 - val_mae: 0.0017\n",
      "Epoch 98/100\n",
      "110/110 [==============================] - 1s 11ms/step - loss: 1.4563e-06 - mae: 8.3362e-04 - val_loss: 5.8167e-06 - val_mae: 0.0017\n",
      "Epoch 99/100\n",
      "110/110 [==============================] - 1s 10ms/step - loss: 1.3191e-06 - mae: 7.7579e-04 - val_loss: 7.2745e-06 - val_mae: 0.0020\n",
      "Epoch 100/100\n",
      "110/110 [==============================] - 1s 10ms/step - loss: 1.6041e-06 - mae: 8.7778e-04 - val_loss: 6.1302e-06 - val_mae: 0.0018\n"
     ]
    },
    {
     "data": {
      "text/plain": [
       "<tensorflow.python.keras.callbacks.History at 0x161b8a910>"
      ]
     },
     "execution_count": 57,
     "metadata": {},
     "output_type": "execute_result"
    }
   ],
   "source": [
    "tesla_lstm_2_weeks.fit(x_train, y_train, epochs=100, batch_size=16, validation_split=0.2)"
   ]
  },
  {
   "cell_type": "code",
   "execution_count": 58,
   "id": "8d530099",
   "metadata": {},
   "outputs": [
    {
     "data": {
      "image/png": "[encoded data removed]",
      "text/plain": [
       "<Figure size 864x432 with 1 Axes>"
      ]
     },
     "metadata": {
      "needs_background": "light"
     },
     "output_type": "display_data"
    }
   ],
   "source": [
    "predict = tesla_lstm_2_weeks.predict(x_test)\n",
    "\n",
    "plt.figure(figsize=(12,6))\n",
    "plt.title('Tesla Stock Price Prediction (d = 2 weeks)', fontsize=14)\n",
    "plt.xlabel('period(day)')\n",
    "plt.ylabel('price')\n",
    "\n",
    "plt.plot(predict, label='predict')\n",
    "plt.plot(y_test, label='real')\n",
    "\n",
    "plt.grid()\n",
    "plt.legend(loc='best')\n",
    "\n",
    "plt.show()"
   ]
  }
 ],
 "metadata": {
  "kernelspec": {
   "display_name": "Python 3",
   "language": "python",
   "name": "python3"
  },
  "language_info": {
   "codemirror_mode": {
    "name": "ipython",
    "version": 3
   },
   "file_extension": ".py",
   "mimetype": "text/x-python",
   "name": "python",
   "nbconvert_exporter": "python",
   "pygments_lexer": "ipython3",
   "version": "3.9.5"
  }
 },
 "nbformat": 4,
 "nbformat_minor": 5
}
