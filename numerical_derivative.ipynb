{
 "cells": [
  {
   "cell_type": "code",
   "execution_count": 1,
   "id": "7373d58c",
   "metadata": {},
   "outputs": [],
   "source": [
    "import numpy as np"
   ]
  },
  {
   "cell_type": "code",
   "execution_count": 2,
   "id": "71600f5d",
   "metadata": {},
   "outputs": [],
   "source": [
    "def numerical_derivative(f, x):\n",
    "    delta_x = 1e-4\n",
    "    return ( f(x+delta_x) - f(x-delta_x) ) / (2*delta_x)"
   ]
  },
  {
   "cell_type": "code",
   "execution_count": 3,
   "id": "4ea4755a",
   "metadata": {},
   "outputs": [],
   "source": [
    "f = lambda x: x**2"
   ]
  },
  {
   "cell_type": "code",
   "execution_count": 4,
   "id": "38101561",
   "metadata": {},
   "outputs": [
    {
     "name": "stdout",
     "output_type": "stream",
     "text": [
      "6.000000000012662\n"
     ]
    }
   ],
   "source": [
    "print(numerical_derivative(f, 3))"
   ]
  },
  {
   "cell_type": "code",
   "execution_count": 5,
   "id": "14e6b221",
   "metadata": {},
   "outputs": [],
   "source": [
    "f = lambda x: 3*x*np.exp(x)"
   ]
  },
  {
   "cell_type": "code",
   "execution_count": 6,
   "id": "124632cc",
   "metadata": {},
   "outputs": [
    {
     "name": "stdout",
     "output_type": "stream",
     "text": [
      "66.50150507518049\n"
     ]
    }
   ],
   "source": [
    "print(numerical_derivative(f, 2))"
   ]
  },
  {
   "cell_type": "code",
   "execution_count": 7,
   "id": "101bffb4",
   "metadata": {},
   "outputs": [],
   "source": [
    "f_prime = lambda x: 3*np.exp(x) + 3*x*np.exp(x)"
   ]
  },
  {
   "cell_type": "code",
   "execution_count": 8,
   "id": "8e29f162",
   "metadata": {},
   "outputs": [
    {
     "name": "stdout",
     "output_type": "stream",
     "text": [
      "66.50150489037586\n"
     ]
    }
   ],
   "source": [
    "print(f_prime(2))"
   ]
  },
  {
   "cell_type": "markdown",
   "id": "edccae6f",
   "metadata": {},
   "source": [
    "#### 다변수 함수의 편미분"
   ]
  },
  {
   "cell_type": "code",
   "execution_count": 9,
   "id": "60b72d6d",
   "metadata": {},
   "outputs": [],
   "source": [
    "def xy_numerical_derivative(f, x, y):\n",
    "    delta_x = delta_y = 1e-4\n",
    "    f_prime_x = ( f(x+delta_x, y) - f(x-delta_x, y)) / (2*delta_x)\n",
    "    f_prime_y = ( f(x, y+delta_y) - f(x, y-delta_y)) / (2*delta_y)\n",
    "    \n",
    "    return (f_prime_x, f_prime_y)"
   ]
  },
  {
   "cell_type": "code",
   "execution_count": 10,
   "id": "122859ec",
   "metadata": {},
   "outputs": [],
   "source": [
    "f = lambda x, y: 2*x + 3*x*y + y**3"
   ]
  },
  {
   "cell_type": "code",
   "execution_count": 11,
   "id": "a8bfb143",
   "metadata": {},
   "outputs": [
    {
     "name": "stdout",
     "output_type": "stream",
     "text": [
      "(7.999999999990237, 15.000000010019221)\n"
     ]
    }
   ],
   "source": [
    "print(xy_numerical_derivative(f, 1, 2))"
   ]
  },
  {
   "cell_type": "code",
   "execution_count": 12,
   "id": "a3cfeed0",
   "metadata": {},
   "outputs": [],
   "source": [
    "def multi_var_numerical_derivative(f, np_obj):\n",
    "    delta = 1e-4\n",
    "    \n",
    "    res = np.zeros_like(np_obj)\n",
    "    \n",
    "    it = np.nditer(np_obj, flags=['multi_index'], op_flags=['readwrite'])\n",
    "    \n",
    "    while not it.finished:\n",
    "        idx = it.multi_index\n",
    "        x = np_obj[idx] # flag to save org value\n",
    "        \n",
    "        np_obj[idx] = x + delta # x + delta_x\n",
    "        f_x_plus_delta = f(np_obj)\n",
    "    \n",
    "        \n",
    "        np_obj[idx] = x - delta  # x - delta_x\n",
    "        f_x_minus_delta = f(np_obj)\n",
    "        \n",
    "        res[idx] = ( f_x_plus_delta - f_x_minus_delta ) / (2*delta)\n",
    "        \n",
    "        np_obj[idx] = x # restore x value\n",
    "        \n",
    "        it.iternext()\n",
    "    \n",
    "    return res"
   ]
  },
  {
   "cell_type": "code",
   "execution_count": 13,
   "id": "4e36d4e4",
   "metadata": {},
   "outputs": [],
   "source": [
    "def f_var1(arg):\n",
    "    x = arg[0]\n",
    "    return x**2"
   ]
  },
  {
   "cell_type": "code",
   "execution_count": 14,
   "id": "fa78d7ef",
   "metadata": {},
   "outputs": [
    {
     "name": "stdout",
     "output_type": "stream",
     "text": [
      "[6.]\n"
     ]
    }
   ],
   "source": [
    "print(multi_var_numerical_derivative(f_var1, np.array([3], dtype = np.float64))) # np.array data type "
   ]
  },
  {
   "cell_type": "code",
   "execution_count": 15,
   "id": "a457947f",
   "metadata": {},
   "outputs": [],
   "source": [
    "def f_var2(arg):\n",
    "    x = arg[0]\n",
    "    y = arg[1]\n",
    "    return 2*x + 3*x*y + y**3"
   ]
  },
  {
   "cell_type": "code",
   "execution_count": 16,
   "id": "2efece78",
   "metadata": {},
   "outputs": [
    {
     "name": "stdout",
     "output_type": "stream",
     "text": [
      "[ 8.         15.00000001]\n"
     ]
    }
   ],
   "source": [
    "print(multi_var_numerical_derivative(f_var2, np.array([1.0,2.0]))) # np.array data type "
   ]
  },
  {
   "cell_type": "code",
   "execution_count": 17,
   "id": "95506d92",
   "metadata": {},
   "outputs": [],
   "source": [
    "def f_var4(obj):\n",
    "    w = obj[0,0]\n",
    "    x = obj[0,1]\n",
    "    y = obj[1,0]\n",
    "    z = obj[1,1]\n",
    "    return w*x + x*y*z + 3*w + z*y**2"
   ]
  },
  {
   "cell_type": "code",
   "execution_count": 18,
   "id": "b1bef8d7",
   "metadata": {},
   "outputs": [],
   "source": [
    "obj = np.array([1, 2, 3, 4], dtype=np.float64).reshape(2,2)"
   ]
  },
  {
   "cell_type": "code",
   "execution_count": 19,
   "id": "d0b25a5e",
   "metadata": {},
   "outputs": [
    {
     "name": "stdout",
     "output_type": "stream",
     "text": [
      "[[ 5. 13.]\n",
      " [32. 15.]]\n"
     ]
    }
   ],
   "source": [
    "print(multi_var_numerical_derivative(f_var4, obj)) "
   ]
  }
 ],
 "metadata": {
  "kernelspec": {
   "display_name": "Python 3",
   "language": "python",
   "name": "python3"
  },
  "language_info": {
   "codemirror_mode": {
    "name": "ipython",
    "version": 3
   },
   "file_extension": ".py",
   "mimetype": "text/x-python",
   "name": "python",
   "nbconvert_exporter": "python",
   "pygments_lexer": "ipython3",
   "version": "3.9.5"
  }
 },
 "nbformat": 4,
 "nbformat_minor": 5
}
