{
 "cells": [
  {
   "cell_type": "code",
   "execution_count": 1,
   "id": "d253c26a",
   "metadata": {},
   "outputs": [],
   "source": [
    "import math\n",
    "import numpy as np\n",
    "from konlpy.tag import Okt"
   ]
  },
  {
   "cell_type": "code",
   "execution_count": 2,
   "id": "d4bedfeb",
   "metadata": {},
   "outputs": [],
   "source": [
    "class BayesianFilter:\n",
    "    def __init__(self):\n",
    "        self.words = set() # Set: Unordered, duplication-free list\n",
    "        self.word_dict = dict() # { 'spam': { '나': 1, '너': 2 }, 'ham': { '날다': 1, '싸다': 1, '먹다': 2 }, ... }\n",
    "        self.category_dict = dict() # { 'spam': 2, 'ham': 3, ... }\n",
    "        \n",
    "        self.exclude_pos_list = ['Punctuation', 'Josa', 'Foreign']\n",
    "        \n",
    "    def __filter_exclude_pos_list(self, list_x):\n",
    "        f_skip_exclude_pos = lambda word_pos : word_pos[1] not in self.exclude_pos_list\n",
    "        word_pos_list = list(filter(f_skip_exclude_pos, list_x))\n",
    "        \n",
    "        get_word = lambda x : x[0]\n",
    "        word_list = list(map(get_word, word_pos_list))\n",
    "        \n",
    "        return word_list\n",
    "    \n",
    "    def __split(self, text):\n",
    "        okt = Okt()\n",
    "        res = self.__filter_exclude_pos_list(okt.pos(text, norm=True, stem=True))\n",
    "        \n",
    "        return res\n",
    "    \n",
    "    def __add_word(self, word, category):\n",
    "        self.words.add(word) # add word to words set\n",
    "        \n",
    "        if (category in self.word_dict):\n",
    "            if (word in self.word_dict[category]):\n",
    "                self.word_dict[category][word] += 1\n",
    "            else :\n",
    "                self.word_dict[category][word] = 1\n",
    "        else:\n",
    "            self.word_dict[category] = { word: 1 }\n",
    "        \n",
    "    def __add_category(self, category):\n",
    "        if category in self.category_dict:\n",
    "            self.category_dict[category] += 1 \n",
    "        else:\n",
    "            self.category_dict[category] = 1\n",
    "    \n",
    "    def __category_prob(self, category): # P(C)\n",
    "        return (self.category_dict[category] + 1e-3) / sum(self.category_dict.values())\n",
    "    \n",
    "    def __word_prob(self, word, category): # P(W|C)\n",
    "        word_cnt = self.word_dict[category][word] if word in self.word_dict[category].keys() else 0\n",
    "        return (word_cnt + 1e-3) / self.category_dict[category]\n",
    "    \n",
    "    def fit(self, text, category):\n",
    "        for word in self.__split(text):\n",
    "            self.__add_word(word, category)\n",
    "        self.__add_category(category)\n",
    "        \n",
    "    def score(self, words, category):\n",
    "        score = math.log(self.__category_prob(category))\n",
    "        \n",
    "        for word in words:\n",
    "            score += math.log(self.__word_prob(word, category))\n",
    "        \n",
    "        return score\n",
    "    \n",
    "    def predict(self, text):\n",
    "        words = self.__split(text)\n",
    "        best_score = -math.inf\n",
    "        best_cat = None\n",
    "        \n",
    "        for category in self.category_dict.keys():\n",
    "            s = self.score(words, category)\n",
    "            if (s > best_score):\n",
    "                best_score = s\n",
    "                best_cat = category\n",
    "                \n",
    "        return best_cat"
   ]
  },
  {
   "cell_type": "code",
   "execution_count": 3,
   "id": "5354c024",
   "metadata": {},
   "outputs": [],
   "source": [
    "bf = BayesianFilter()"
   ]
  },
  {
   "cell_type": "code",
   "execution_count": 4,
   "id": "0099ee8d",
   "metadata": {},
   "outputs": [],
   "source": [
    "x_train = [\n",
    "    ['갤럭시 S21 일100대한정 이벤트 혜택 확인하세요!', 'spam'],\n",
    "    ['라식은 사랑입니다 [라식 할인 이벤트]', 'spam'],\n",
    "    ['유준열님께만 드리는 <치아교정 지원자 모집> 안내', 'spam'],\n",
    "    ['구하기 힘든 나이키 코르테즈 에어맥스 빼박정품 대방출! ', 'spam'],\n",
    "    ['새로워진 소노벨 천안, 7월 16일 East Tower 신관 오픈!', 'spam'],\n",
    "    ['4대보험 가입 성실 근로자 대상 채무건전성 향상 지원 근로자 통합지원센터~ ', 'spam'],\n",
    "    ['맛있는데 12kcal, 일명 다이어트 국수 OOOO ', 'spam'],\n",
    "    ['22세 유준열님, 1살 더 오르기전에 지금 암보험 가입하세요! :라이나생명 상품안내 ', 'spam'],\n",
    "    ['외면 못할걸? 육즙 터지는 통삼겹살(킬포:멜젓 증정) ', 'spam'],\n",
    "    ['서두르세요! 스탬프 추가 적립 쿠폰이 곧 마감됩니다 ', 'spam'],\n",
    "    ['여러분의 관절 은 괜찮습니까?종근당건강 천관보! ', 'spam'],\n",
    "    ['질문 2가지만 답하면 라식/라섹이 49%할인 >> 참여하기 ', 'spam'],\n",
    "    ['단기 치아교정 지원자 모집 : 유준열님, 지금 바로 확인하세요. ', 'spam'],\n",
    "    [' 통풍방석, 청대자리 까니 시원하구나~ ', 'spam'],\n",
    "    ['갤럭시 버즈프로 57% 파격할인 (인기 바이올렛 有) ', 'spam'],\n",
    "    ['[상품권 도착] 1천원 더! 여름 도서상품권 추가지급♬ (~7/31)', 'spam'],\n",
    "    [' 에어서울 시원한 스페셜 특가 13,200원~/롯데호텔제주 2박 267,000원~ ', 'spam'],\n",
    "    ['복잡한 대출 여기저기 알아보기 힘드시죠? 쉽고 빠른 맞춤형안심대출로 한방에 고민해결OK!! ', 'spam'],\n",
    "    ['지난주 1등!! \"20명\" 이번 973회차 1등예상번호 무료이벤트 신청하시고 꼭!~대박나세요. ', 'spam'],\n",
    "    ['디스커버리 정품 티셔츠/팬츠/래쉬가드 파격세일! ', 'spam'],\n",
    "    ['유준열님, 금주 추천 이벤트를 확인하세요! ', 'spam'],\n",
    "    ['유준열님께 드리는 <라섹/라식 49%할인 특가> 안내', 'spam'],\n",
    "    ['놀라지 않기! 쓰임 커트러리/그릇/접시 모두 3,900원', 'spam'],\n",
    "    ['똑똑한 금융생활 나에게 딱! 맞는 금융상품과 포인트를 한번에!', 'spam'],\n",
    "    ['2021년 7월 유준열님의 맞춤 암보험료가 도착했습니다. :라이나생명 상품안내 ', 'spam'],\n",
    "    ['지난 1등 11억/20명 이번주 1등당첨 예상번호 무료이벤트!! 혹시 \"1등\" 될지 정말 아무도 모릅니다. ', 'spam'],\n",
    "    ['시력0.5이하 찾습니다! 최대 49% 할인! ', 'spam'],\n",
    "    ['유*열님, 생일을 축하드리며, 발급된 생일 쿠폰을 확인 하세요. ', 'spam'],\n",
    "    ['7월 19일 유준열님을 위한 시력교정 특가 이벤트 소식 도착했습니다. ', 'spam'],\n",
    "    ['녹차아이스크림 진리 나뚜루 반값! 드루와! ', 'spam'],\n",
    "    ['유준열님, 잠시후 초특가 상품이 쏟아집니다!', 'spam'],\n",
    "    ['치아 교정 지원자 모집 : 유준열님, 지금 바로 확인하세요. ', 'spam'],\n",
    "    ['22세 유준열님, 1살 더 오르기전에 지금 암보험 가입하세요! :라이나생명 상품안내 ', 'spam'],\n",
    "    ['7월 21일 유준열님을 위한 시력교정 특가 이벤트 소식 도착했습니다. ', 'spam'],\n",
    "    [' [카카오] 2021 카카오 채용연계형 인턴십 for Tech Developers 코딩테스트 응시 안내 ', 'ham'],\n",
    "    ['[컴퓨터 구조] 실습 과제 개선 프로젝트 참여에 대해 문의드립니다.', 'ham'],\n",
    "    ['[교육]그린리더십 인턴십 최종발표회 안내', 'ham'],\n",
    "    ['[기초교육원 블로그] 여름방학, 학생기자가 쓴 학내 기사와 함께 하세요!', 'ham'],\n",
    "    ['[교육]여름 계절학기 리포트 상담도 받고 2학기 리포트도 준비해 보세요!', 'ham'],\n",
    "    ['[학술]<평화를 지도에 담다 ? ‘DMZ 국제평화지대화’를 위한 『DMZ 평화지도』 포럼> 연기 안내', 'ham'],\n",
    "    ['서울대학교 건강운동과학실 임상실험 피험자 모집 [녹용섭취, 채혈 총 2일, 4번 방문, 답례비 약 30만원]', 'ham'],\n",
    "    ['[학술]「사투리 시 낭송 영상 공모전」 개최', 'ham'],\n",
    "    ['[기타]서울대학교 사범대학 AI융합교육 여름학교 개최', 'ham'],\n",
    "    ['[기타]카페 느티나무 선물하기 서비스 개시', 'ham'],\n",
    "    ['[글쓰기센터]제34회 우수리포트 공모대회에 응모해 보세요!', 'ham'],\n",
    "    ['[소식]아시아 브리프 19호: 한국 녹색외교의 미래', 'ham'],\n",
    "    ['[소식]재능으로 성공했다는 거짓말', 'ham'],\n",
    "    ['[연구]COVID-19 백신 인센티브 선택 조사(Survey on Incentive Selection for COVID-19 Vaccination)', 'ham'],\n",
    "    ['[학술]평화를 지도에 담다. DMZ 국제평화지대화를 위한 <DMZ 평화지도> 포럼', 'ham'],\n",
    "    ['[스누새편지] 별을 좋아하세요?', 'ham'],\n",
    "    ['[교육]엑셀을 활용한 데이터 분석 온라인 특강 신청 안내', 'ham'],\n",
    "    ['서울대학교 건강운동과학실: [실시간 비대면 코어 운동 프로그램]적용 연구참여자 모집', 'ham'],\n",
    "    ['[PT 동영상 콘텐츠 1탄]프레젠테이션 기획과 디자인 전략', 'ham'],\n",
    "    ['[제1회 서울대학교미술관 강연]다른 곳에서 제기된 문제들 : 1. 블록체인 아트 NFT(Non-Fungible Token)', 'ham'],\n",
    "    ['스타트업 해외진출 집중성장캠프(BOOT-X CAMP) 참여자 모집', 'ham'],\n",
    "    ['[기초교육원 교수학습센터]여름방학 동안 학습상담에 참여해보세요>', 'ham'],\n",
    "    ['[언어교육원]8월학기 외국어 정규강좌 수강신청~7/29(목) 오전 10시 (Zoom 15% 할인!)', 'ham'],\n",
    "    ['[중앙도서관 카드뉴스]비대면 수업 지원을 위한 도서관 서비스', 'ham'],\n",
    "    ['[BK 홍보]사회정의 옹호 상담의 실천 : 상담에서의 사회복지적 접근 (2021.07.31.토)', 'ham'],\n",
    "    ['[학술]제8회 저자에게 듣는다 - 서울대학교출판문화원 저술강연 개최', 'ham'],\n",
    "    ['[소식] 평창캠퍼스 뉴스레터 28호; 강원도·평창군·서울대 그린바이오 산업 육성 업무협약 및 포럼 개최 등', 'ham'],\n",
    "    ['[SNU NOW] 서울대학교 7월의 소식을 만나보세요', 'ham'],\n",
    "    ['[교육]계절학기 리포트 상담, 지난 학기 리포트 리뷰 서비스 받아보세요!', 'ham'],\n",
    "    ['[서울대학교] 유준열님 인터넷으로 증명서 발급되었습니다.', 'ham'],\n",
    "    ['[소식]서울대학교 의과대학 함춘인사이드 Vol.152', 'ham'],\n",
    "    ['2021-1학기관리회계의 성적이 공개되었습니다.', 'ham']\n",
    "]"
   ]
  },
  {
   "cell_type": "code",
   "execution_count": 5,
   "id": "53629771",
   "metadata": {},
   "outputs": [],
   "source": [
    "for item in x_train:\n",
    "    bf.fit(item[0], item[1])"
   ]
  },
  {
   "cell_type": "code",
   "execution_count": 6,
   "id": "074ff00b",
   "metadata": {},
   "outputs": [
    {
     "name": "stdout",
     "output_type": "stream",
     "text": [
      "{'spam': 34, 'ham': 32}\n"
     ]
    }
   ],
   "source": [
    "print(bf.category_dict)"
   ]
  },
  {
   "cell_type": "code",
   "execution_count": 7,
   "id": "0273fc63",
   "metadata": {},
   "outputs": [],
   "source": [
    "x_test = [\n",
    "    ['[네이처 마스터클래스 온라인강좌]과학논문 작성과 투고 방법', 'ham'],\n",
    "    ['2021-1학기관리회계의 성적이 공개되었습니다. ', 'ham'],\n",
    "    ['[소식]서울의대 열린강의실 여섯번째 이야기: 산자가 죽은자에게 배운다(법의학교실 유성호 교수)', 'ham'],\n",
    "    ['몰테일의 다양한 이벤트가 기다리고 있어요! ', 'spam'],\n",
    "    ['내년에 임플란트+크라운 하실 계획있으세요? 가입1년후 무제한 100%보장(타사는 전부 2년후) ', 'spam'],\n",
    "    ['갤럭시 S21 일100대한정 이벤트 혜택 확인하세요! ', 'spam']\n",
    "]"
   ]
  },
  {
   "cell_type": "code",
   "execution_count": 10,
   "id": "6bd88b95",
   "metadata": {},
   "outputs": [
    {
     "name": "stdout",
     "output_type": "stream",
     "text": [
      "[네이처 마스터클래스 온라인강좌]과학논문 작성과 투고 방법\n",
      " => Predict: ham\tAnswer: ham\n",
      "\n",
      "2021-1학기관리회계의 성적이 공개되었습니다. \n",
      " => Predict: ham\tAnswer: ham\n",
      "\n",
      "[소식]서울의대 열린강의실 여섯번째 이야기: 산자가 죽은자에게 배운다(법의학교실 유성호 교수)\n",
      " => Predict: ham\tAnswer: ham\n",
      "\n",
      "몰테일의 다양한 이벤트가 기다리고 있어요! \n",
      " => Predict: spam\tAnswer: spam\n",
      "\n",
      "내년에 임플란트+크라운 하실 계획있으세요? 가입1년후 무제한 100%보장(타사는 전부 2년후) \n",
      " => Predict: spam\tAnswer: spam\n",
      "\n",
      "갤럭시 S21 일100대한정 이벤트 혜택 확인하세요! \n",
      " => Predict: spam\tAnswer: spam\n",
      "\n"
     ]
    }
   ],
   "source": [
    "for t in x_test:\n",
    "    print(\"%s\\n => Predict: %s\\tAnswer: %s\\n\" % (t[0], bf.predict(t[0]), t[1]) )"
   ]
  }
 ],
 "metadata": {
  "kernelspec": {
   "display_name": "Python 3",
   "language": "python",
   "name": "python3"
  },
  "language_info": {
   "codemirror_mode": {
    "name": "ipython",
    "version": 3
   },
   "file_extension": ".py",
   "mimetype": "text/x-python",
   "name": "python",
   "nbconvert_exporter": "python",
   "pygments_lexer": "ipython3",
   "version": "3.9.5"
  }
 },
 "nbformat": 4,
 "nbformat_minor": 5
}
