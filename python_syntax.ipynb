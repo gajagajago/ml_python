{
 "cells": [
  {
   "cell_type": "code",
   "execution_count": 1,
   "id": "8f997640",
   "metadata": {},
   "outputs": [],
   "source": [
    "class Person:\n",
    "    cnt = 0\n",
    "    \n",
    "    def __init__(self, name):\n",
    "        self.name = name\n",
    "        Person.cnt = Person.cnt + 1\n",
    "        print(\"%s init\" % self.name)\n",
    "        \n",
    "    @classmethod\n",
    "    def get_cnt(cls):\n",
    "        return cls.cnt"
   ]
  },
  {
   "cell_type": "code",
   "execution_count": 2,
   "id": "4aeeeabf",
   "metadata": {},
   "outputs": [
    {
     "name": "stdout",
     "output_type": "stream",
     "text": [
      "a init\n",
      "b init\n"
     ]
    }
   ],
   "source": [
    "a = Person('a')\n",
    "b = Person('b')"
   ]
  },
  {
   "cell_type": "code",
   "execution_count": 3,
   "id": "8427614d",
   "metadata": {},
   "outputs": [
    {
     "name": "stdout",
     "output_type": "stream",
     "text": [
      "2\n"
     ]
    }
   ],
   "source": [
    "print(Person.get_cnt())"
   ]
  },
  {
   "cell_type": "code",
   "execution_count": null,
   "id": "b16e8bff",
   "metadata": {},
   "outputs": [],
   "source": []
  }
 ],
 "metadata": {
  "kernelspec": {
   "display_name": "Python 3",
   "language": "python",
   "name": "python3"
  },
  "language_info": {
   "codemirror_mode": {
    "name": "ipython",
    "version": 3
   },
   "file_extension": ".py",
   "mimetype": "text/x-python",
   "name": "python",
   "nbconvert_exporter": "python",
   "pygments_lexer": "ipython3",
   "version": "3.9.5"
  }
 },
 "nbformat": 4,
 "nbformat_minor": 5
}
