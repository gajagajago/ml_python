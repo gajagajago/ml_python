{
 "cells": [
  {
   "cell_type": "markdown",
   "id": "bb9b3308",
   "metadata": {},
   "source": [
    "Mutable params: list, dict, numpy, ...\n",
    "Immutable params: number, char, tuple, ..."
   ]
  },
  {
   "cell_type": "code",
   "execution_count": 1,
   "id": "582c58e2",
   "metadata": {},
   "outputs": [],
   "source": [
    "mut = [1,2,3]\n",
    "immut = 1\n",
    "\n",
    "def mut_test(data):\n",
    "    if type(data) == list: \n",
    "        for i in range(len(data)):\n",
    "            data[i] = 0\n",
    "    if type(data) == int:\n",
    "        data = 0\n",
    "        "
   ]
  },
  {
   "cell_type": "code",
   "execution_count": 2,
   "id": "6d22826e",
   "metadata": {},
   "outputs": [],
   "source": [
    "mut_test(mut)\n",
    "mut_test(immut)"
   ]
  },
  {
   "cell_type": "code",
   "execution_count": 3,
   "id": "f237a282",
   "metadata": {},
   "outputs": [
    {
     "name": "stdout",
     "output_type": "stream",
     "text": [
      "[0, 0, 0]\n",
      "1\n"
     ]
    }
   ],
   "source": [
    "print(mut)\n",
    "print(immut)"
   ]
  },
  {
   "cell_type": "markdown",
   "id": "39d64a28",
   "metadata": {},
   "source": [
    "Lambda expression\n",
    "f = lambda in1, in2, ... : expression"
   ]
  },
  {
   "cell_type": "code",
   "execution_count": 4,
   "id": "8f163af8",
   "metadata": {},
   "outputs": [],
   "source": [
    "add_func = lambda x, y: x+y"
   ]
  },
  {
   "cell_type": "code",
   "execution_count": 5,
   "id": "4632e800",
   "metadata": {},
   "outputs": [
    {
     "name": "stdout",
     "output_type": "stream",
     "text": [
      "3\n"
     ]
    }
   ],
   "source": [
    "print(add_func(1,2))"
   ]
  },
  {
   "cell_type": "markdown",
   "id": "bbeedf05",
   "metadata": {},
   "source": [
    "Class \n",
    "\n",
    "class method: static method (@classmethod)\n",
    "\n",
    "declare class var, method as prvt: __var/method name"
   ]
  },
  {
   "cell_type": "code",
   "execution_count": 11,
   "id": "8f997640",
   "metadata": {},
   "outputs": [],
   "source": [
    "class Person:\n",
    "    cnt = 0\n",
    "    \n",
    "    def __init__(self, name, prvt_name):\n",
    "        self.name = name\n",
    "        self.__prvt_name = prvt_name\n",
    "        Person.cnt = Person.cnt + 1\n",
    "        print(\"%s init\" % self.name)\n",
    "        \n",
    "    @classmethod\n",
    "    def get_cnt(cls):\n",
    "        return cls.cnt\n",
    "    \n",
    "    def get_name(self):\n",
    "        return self.name\n",
    "    \n",
    "    def get_prvt_name(self):\n",
    "        return self.__prvt_name"
   ]
  },
  {
   "cell_type": "code",
   "execution_count": 12,
   "id": "4aeeeabf",
   "metadata": {},
   "outputs": [
    {
     "name": "stdout",
     "output_type": "stream",
     "text": [
      "a init\n",
      "b init\n"
     ]
    }
   ],
   "source": [
    "a = Person('a', '007')\n",
    "b = Person('b', '004')"
   ]
  },
  {
   "cell_type": "code",
   "execution_count": 13,
   "id": "8427614d",
   "metadata": {},
   "outputs": [
    {
     "name": "stdout",
     "output_type": "stream",
     "text": [
      "2\n"
     ]
    }
   ],
   "source": [
    "print(Person.get_cnt())"
   ]
  },
  {
   "cell_type": "code",
   "execution_count": 14,
   "id": "b16e8bff",
   "metadata": {},
   "outputs": [
    {
     "name": "stdout",
     "output_type": "stream",
     "text": [
      "a\n"
     ]
    }
   ],
   "source": [
    "print(a.get_name())"
   ]
  },
  {
   "cell_type": "code",
   "execution_count": 15,
   "id": "0d7a30b8",
   "metadata": {},
   "outputs": [
    {
     "ename": "AttributeError",
     "evalue": "'Person' object has no attribute '__prvt_name'",
     "output_type": "error",
     "traceback": [
      "\u001b[0;31m---------------------------------------------------------------------------\u001b[0m",
      "\u001b[0;31mAttributeError\u001b[0m                            Traceback (most recent call last)",
      "\u001b[0;32m<ipython-input-15-5e066404b52a>\u001b[0m in \u001b[0;36m<module>\u001b[0;34m\u001b[0m\n\u001b[0;32m----> 1\u001b[0;31m \u001b[0mprint\u001b[0m\u001b[0;34m(\u001b[0m\u001b[0ma\u001b[0m\u001b[0;34m.\u001b[0m\u001b[0m__prvt_name\u001b[0m\u001b[0;34m)\u001b[0m\u001b[0;34m\u001b[0m\u001b[0;34m\u001b[0m\u001b[0m\n\u001b[0m",
      "\u001b[0;31mAttributeError\u001b[0m: 'Person' object has no attribute '__prvt_name'"
     ]
    }
   ],
   "source": [
    "print(a.__prvt_name)"
   ]
  },
  {
   "cell_type": "code",
   "execution_count": 16,
   "id": "d68214c4",
   "metadata": {},
   "outputs": [
    {
     "name": "stdout",
     "output_type": "stream",
     "text": [
      "007\n"
     ]
    }
   ],
   "source": [
    "print(a.get_prvt_name())"
   ]
  },
  {
   "cell_type": "markdown",
   "id": "031b04d6",
   "metadata": {},
   "source": [
    "try .. except"
   ]
  },
  {
   "cell_type": "code",
   "execution_count": 17,
   "id": "539b905a",
   "metadata": {},
   "outputs": [],
   "source": [
    "from functools import reduce"
   ]
  },
  {
   "cell_type": "code",
   "execution_count": 18,
   "id": "4c95342d",
   "metadata": {},
   "outputs": [],
   "source": [
    "def mk_exception(list_data):\n",
    "    sum = 0\n",
    "    \n",
    "    try:\n",
    "        sum = reduce(lambda acc, curr: acc+curr, list_data)\n",
    "        \n",
    "        if sum < 0: \n",
    "            raise Exception(\"Negative sum exception\")\n",
    "            \n",
    "        return sum\n",
    "    \n",
    "    except Exception as err:\n",
    "        print(str(err))"
   ]
  },
  {
   "cell_type": "code",
   "execution_count": 19,
   "id": "b7895776",
   "metadata": {},
   "outputs": [
    {
     "name": "stdout",
     "output_type": "stream",
     "text": [
      "6\n"
     ]
    }
   ],
   "source": [
    "print(mk_exception([1,2,3]))"
   ]
  },
  {
   "cell_type": "code",
   "execution_count": 20,
   "id": "b8b84c7b",
   "metadata": {},
   "outputs": [
    {
     "name": "stdout",
     "output_type": "stream",
     "text": [
      "Negative sum exception\n",
      "None\n"
     ]
    }
   ],
   "source": [
    "print(mk_exception([-1,-2,-3]))"
   ]
  }
 ],
 "metadata": {
  "kernelspec": {
   "display_name": "Python 3",
   "language": "python",
   "name": "python3"
  },
  "language_info": {
   "codemirror_mode": {
    "name": "ipython",
    "version": 3
   },
   "file_extension": ".py",
   "mimetype": "text/x-python",
   "name": "python",
   "nbconvert_exporter": "python",
   "pygments_lexer": "ipython3",
   "version": "3.9.5"
  }
 },
 "nbformat": 4,
 "nbformat_minor": 5
}
